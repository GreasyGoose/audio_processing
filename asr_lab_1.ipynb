{
 "cells": [
  {
   "cell_type": "markdown",
   "metadata": {
    "id": "LA6s0CLLSi5c"
   },
   "source": [
    "Первое практическое занятие мы начнем с реализации dynamic time warping (DTW) алгоритм на основе token passing algorithm (TPA).\n",
    "\n",
    "У нас имеется несколько эталонов (различные вариации произнесения слов YES и NO) и пару записей (так же YES и NO). С помощью алгоритма DTW нам будет необходимо определить на какой из эталонов больше всего похожа каждая запись. Данные wav файлы взяты из открытой базы данных Google Speech Commands Dataset (https://ai.googleblog.com/2017/08/launching-speech-commands-dataset.html)."
   ]
  },
  {
   "cell_type": "markdown",
   "metadata": {
    "id": "R1JCDzPJSfi2"
   },
   "source": [
    "# Практика №1"
   ]
  },
  {
   "cell_type": "markdown",
   "metadata": {
    "id": "aV9Va3ZdS-6Y"
   },
   "source": [
    "### Bootstrap"
   ]
  },
  {
   "cell_type": "code",
   "execution_count": 1,
   "metadata": {
    "id": "_Jya0WnwSmwj"
   },
   "outputs": [],
   "source": [
    "!pip install -U -q PyDrive\n",
    " \n",
    "from pydrive.auth import GoogleAuth\n",
    "from pydrive.drive import GoogleDrive\n",
    "from google.colab import auth\n",
    "from oauth2client.client import GoogleCredentials\n",
    "# Authenticate and create the PyDrive client.\n",
    "# This only needs to be done once per notebook.\n",
    "auth.authenticate_user()\n",
    "gauth = GoogleAuth()\n",
    "gauth.credentials = GoogleCredentials.get_application_default()\n",
    "drive = GoogleDrive(gauth)"
   ]
  },
  {
   "cell_type": "code",
   "execution_count": 2,
   "metadata": {
    "id": "sLK9IbH1TRkg"
   },
   "outputs": [],
   "source": [
    "# загрузка данных, необходимых для работы\n",
    "file_id = '1VNi62ZxZA7rgMKsvECDGZdl3WQJcBKRb' # URL id. \n",
    "file_name = 'lab1.zip'\n",
    "downloaded = drive.CreateFile({'id': file_id})\n",
    "downloaded.GetContentFile(file_name)"
   ]
  },
  {
   "cell_type": "code",
   "execution_count": 3,
   "metadata": {
    "colab": {
     "base_uri": "https://localhost:8080/"
    },
    "id": "16D45dWZTRwg",
    "outputId": "c457ce0c-c5e0-4fca-de71-4acce5fbc47a"
   },
   "outputs": [
    {
     "name": "stdout",
     "output_type": "stream",
     "text": [
      "replace lab1/data/yes_no/etalons/yes_0132a06d_nohash_0.wav? [y]es, [n]o, [A]ll, [N]one, [r]ename: N\n",
      "/content/lab1\n"
     ]
    }
   ],
   "source": [
    "!unzip -q lab1.zip\n",
    "!rm -rf lab1.zip sample_data\n",
    "%cd lab1"
   ]
  },
  {
   "cell_type": "code",
   "execution_count": 4,
   "metadata": {
    "id": "o1IPr9a8VxXn"
   },
   "outputs": [],
   "source": [
    "import os\n",
    "import numpy as np\n",
    "import time\n",
    "from tqdm.notebook import tqdm\n",
    "import matplotlib.pyplot as plt\n",
    "import IPython.display as ipd\n",
    "import librosa, librosa.display\n",
    " \n",
    " \n",
    " \n",
    "%matplotlib inline\n",
    "plt.rcParams['image.interpolation'] = 'nearest'\n",
    "plt.rcParams['image.cmap'] = 'gray'"
   ]
  },
  {
   "cell_type": "markdown",
   "metadata": {
    "id": "zcMtqRtgV3aa"
   },
   "source": [
    "Рассмотрим на примере один из эталонов:"
   ]
  },
  {
   "cell_type": "code",
   "execution_count": 5,
   "metadata": {
    "colab": {
     "base_uri": "https://localhost:8080/",
     "height": 126
    },
    "id": "I0Hf07iEV5XN",
    "outputId": "84d7aae9-a89d-4102-f575-d82f876face7"
   },
   "outputs": [
    {
     "name": "stdout",
     "output_type": "stream",
     "text": [
      "Number of samples: 16000\n",
      "Sampling rate: 16000 Hz\n",
      "Duration: 1.00 s\n"
     ]
    },
    {
     "data": {
      "text/html": [
       "\n",
       "                <audio controls=\"controls\" >\n",
       "                    <source src=\"data:audio/wav;base64,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\" type=\"audio/wav\" />\n",
       "                    Your browser does not support the audio element.\n",
       "                </audio>\n",
       "              "
      ],
      "text/plain": [
       "<IPython.lib.display.Audio object>"
      ]
     },
     "execution_count": 5,
     "metadata": {
      "tags": []
     },
     "output_type": "execute_result"
    }
   ],
   "source": [
    "wav_example = 'data/yes_no/etalons/yes_004ae714_nohash_0.wav'\n",
    " \n",
    "# чтение wav файла:\n",
    "x, sr = librosa.load(wav_example, sr=None)     # sr=None to preserve the native sampling rate\n",
    " \n",
    "print('Number of samples: {}'.format(len(x)))\n",
    "print('Sampling rate: {} Hz'.format(sr))\n",
    "print('Duration: {:.2f} s'.format(len(x)/sr))  # ~ librosa.get_duration(x, sr)\n",
    " \n",
    "# воспроизведение:\n",
    "ipd.Audio(x, rate=sr)"
   ]
  },
  {
   "cell_type": "code",
   "execution_count": 6,
   "metadata": {
    "colab": {
     "base_uri": "https://localhost:8080/",
     "height": 351
    },
    "id": "DQcrs79wV8jn",
    "outputId": "b73a6b69-2725-46bd-c373-90decc720d35"
   },
   "outputs": [
    {
     "data": {
      "text/plain": [
       "<matplotlib.collections.PolyCollection at 0x7f2aa3fd5c10>"
      ]
     },
     "execution_count": 6,
     "metadata": {
      "tags": []
     },
     "output_type": "execute_result"
    },
    {
     "data": {
      "image/png": "[encoded data removed]",
      "text/plain": [
       "<Figure size 1080x360 with 1 Axes>"
      ]
     },
     "metadata": {
      "needs_background": "light",
      "tags": []
     },
     "output_type": "display_data"
    }
   ],
   "source": [
    "# Временное представление сигнала:\n",
    "plt.rcParams['figure.figsize'] = (15.0, 5.0)\n",
    "librosa.display.waveplot(x, sr=sr)"
   ]
  },
  {
   "cell_type": "code",
   "execution_count": 7,
   "metadata": {
    "colab": {
     "base_uri": "https://localhost:8080/",
     "height": 367
    },
    "id": "G639c-CYWJT9",
    "outputId": "d06d4efb-7a20-4b23-83fa-eada4f36d45d"
   },
   "outputs": [
    {
     "data": {
      "text/plain": [
       "Text(0.5, 1.0, 'Log-frequency power spectrogram')"
      ]
     },
     "execution_count": 7,
     "metadata": {
      "tags": []
     },
     "output_type": "execute_result"
    },
    {
     "data": {
      "image/png": "[encoded data removed]",
      "text/plain": [
       "<Figure size 1080x360 with 2 Axes>"
      ]
     },
     "metadata": {
      "needs_background": "light",
      "tags": []
     },
     "output_type": "display_data"
    }
   ],
   "source": [
    "# спектрограмма:\n",
    "D = librosa.amplitude_to_db(np.abs(librosa.stft(x)), ref=np.max)\n",
    "librosa.display.specshow(D, sr=sr, y_axis='hz', x_axis='time')\n",
    "plt.colorbar(format='%+2.0f dB')\n",
    "plt.title('Log-frequency power spectrogram')"
   ]
  },
  {
   "cell_type": "markdown",
   "metadata": {
    "id": "lrXMLQSDWajP"
   },
   "source": [
    "Теперь посчитаем речевые признаки нашего эталона.\n",
    "Для начала будем работать с 13-ти размерными MFCC признаками."
   ]
  },
  {
   "cell_type": "code",
   "execution_count": 8,
   "metadata": {
    "colab": {
     "base_uri": "https://localhost:8080/"
    },
    "id": "pcuVfy_3WLS8",
    "outputId": "39c35aff-7c8b-4657-88f3-5dd005d66b38"
   },
   "outputs": [
    {
     "name": "stdout",
     "output_type": "stream",
     "text": [
      "(13, 101)\n",
      "[-668.8059      -1.2019875    4.53354     35.322647     9.764597\n",
      "    9.849829    10.895137    15.9373       4.3746996   11.116629\n",
      "    4.147642     1.4780188   -5.5366154]\n"
     ]
    }
   ],
   "source": [
    "# n_fft = 25 ms        -- длина кадра\n",
    "# hop_length = 10 ms   -- длина шага\n",
    "# тогда в отчетах получаем следующее:\n",
    "n_fft = int(sr * 0.025)\n",
    "hop_length = int(sr * 0.01)\n",
    " \n",
    " \n",
    "mfcc = librosa.feature.mfcc(x, sr=sr, n_mfcc=13, n_fft=n_fft, hop_length=hop_length)\n",
    "print(mfcc.shape)\n",
    "print(mfcc[:, 0]) # вектор признаков нулевого кадра"
   ]
  },
  {
   "cell_type": "markdown",
   "metadata": {
    "id": "myZAPeZSWsKH"
   },
   "source": [
    "Теперь приступим к описанию самого DTW алгоритма.\n",
    "Для начала нам потребуется создать граф, ветвями которого будут наши эталоны, с которыми мы и будем сравнивать записи. Все ветви графа будут состоят из узлов типа State. Каждый такой узел представляет собой описание отдельного кадра эталона. Т.е. число узлов в ветви равно числу кадров в эталоне.\n",
    "\n",
    "На данном этапе узлы в графе будут иметь переходы только в себя и следующий узел. Нулевой узел является корневым и имеет переходы в начальные узлы каждой ветви. Финальный узел каждой ветви имеет переход только в себя. Схема такого графа представлена ниже:"
   ]
  },
  {
   "cell_type": "markdown",
   "metadata": {
    "id": "OKAQH5_FW4Jo"
   },
   "source": [
    "![](https://drive.google.com/uc?export=view&id=1PQwZSf9EFEZUWQt9dmOifpyqCM6uuCRM)"
   ]
  },
  {
   "cell_type": "markdown",
   "metadata": {
    "id": "04Xj2ymdzQhn"
   },
   "source": [
    "здесь мы имеем два эталона слов YES и NO длиной 4 и 3 кадра соответственно."
   ]
  },
  {
   "cell_type": "code",
   "execution_count": 73,
   "metadata": {
    "id": "DxieTkKhWV0M"
   },
   "outputs": [],
   "source": [
    "class State:\n",
    "    def __init__(self, feats, index):  \n",
    "        self.feats = feats            # вектор признаков узла\n",
    "        self.is_final = False         # является ли этот узел финальным в слове\n",
    "        self.word = None              # слово эталона (назначается только для финального узла)\n",
    "        self.best_token = None        # лучший токен (по минимуму дистанции) в узле\n",
    "        self.current_word = None      # текущее слово эталона\n",
    "        self.next_states = []         # список следующих узлов\n",
    "        self.index = index            # индекс узла \n",
    " \n",
    "        \n",
    "def load_graph(etalons_dict):\n",
    "    start_state = State(None, 0)\n",
    "    graph = [start_state, ]\n",
    "    state_index = 1\n",
    "    for word in etalons_dict.keys():\n",
    "        # print(word)\n",
    "        previous_state = start_state\n",
    "        for i, feats_frame in enumerate(etalons_dict[word]):\n",
    "            # print(feats_frame)\n",
    "            state = State(feats_frame, state_index)\n",
    "            state.current_word = word           # слово эталона теперь будет храниться в каждом узле\n",
    "            state.next_states.append(state)     # добавление перехода в себя\n",
    "            previous_state.next_states.append(state)\n",
    "            previous_state = state            \n",
    "\n",
    "            #-----------------------------TODO №2-----------------------------------\n",
    "            # Добавьте переходы через один и через два узла\n",
    "            # (hint): добавлять переходы проще задним числом\n",
    "            #-----------------------------------------------------------------------\n",
    "            if i >= 2:\n",
    "              graph[state_index - 2].next_states.append(state)\n",
    "\n",
    "            if i >= 3:\n",
    "              graph[state_index - 3].next_states.append(state)                         \n",
    "            \n",
    "            graph.append(state)\n",
    "            state_index += 1\n",
    "        if state:\n",
    "            state.word = word\n",
    "            state.is_final = True\n",
    "    return graph\n",
    " \n",
    " \n",
    "def print_graph(graph):\n",
    "    if not os.path.exists('exp'):\n",
    "        os.mkdir('exp')\n",
    "    with open('exp/graph.txt', 'w') as fn:\n",
    "        np.set_printoptions(formatter={'float': '{: 0.1f}'.format})\n",
    "        for state in graph:\n",
    "            next_state_indexes = [s.index for s in state.next_states]\n",
    "            fn.write(\"State: index={} word={} is_final={} next_state_indexes={} ftr={} \\n\".format(\n",
    "                state.index, state.word, state.is_final, next_state_indexes, state.feats))\n",
    "    print(\"*** See exp/graph.txt ***\")"
   ]
  },
  {
   "cell_type": "markdown",
   "metadata": {
    "id": "4lEU31czXNy5"
   },
   "source": [
    "Подготовка наших эталонов и записей для распознавания:"
   ]
  },
  {
   "cell_type": "code",
   "execution_count": 74,
   "metadata": {
    "id": "ri9QY5XFdkgn"
   },
   "outputs": [],
   "source": [
    "# etalons_dict - mfcc от аудио:\n",
    "# название файла: mfcc\n",
    "\n",
    "# graph is a list of states"
   ]
  },
  {
   "cell_type": "code",
   "execution_count": 75,
   "metadata": {
    "id": "Douk24ayXO4c"
   },
   "outputs": [],
   "source": [
    "def load_data_dict(dir_path):\n",
    "    data_dict = {}\n",
    "    for wav_name in os.listdir(dir_path):\n",
    "        x, sr = librosa.load(os.path.join(dir_path, wav_name), sr=None) \n",
    "        mfcc = librosa.feature.mfcc(x, sr=sr, n_mfcc=13, \n",
    "                                    n_fft=int(sr * 0.025),\n",
    "                                    hop_length=int(sr * 0.01))\n",
    "        data_dict[wav_name] = mfcc.T\n",
    "    \n",
    "    return data_dict"
   ]
  },
  {
   "cell_type": "code",
   "execution_count": 76,
   "metadata": {
    "id": "7rCUtky5XTF-"
   },
   "outputs": [],
   "source": [
    "etalons_dir = \"data/yes_no/etalons\"\n",
    "records_dir = \"data/yes_no/records\"\n",
    " \n",
    "etalons_data_dict = load_data_dict(etalons_dir)\n",
    "records_data_dict = load_data_dict(records_dir)"
   ]
  },
  {
   "cell_type": "code",
   "execution_count": 77,
   "metadata": {
    "colab": {
     "base_uri": "https://localhost:8080/",
     "height": 35
    },
    "id": "gS4Kvc4FfPvI",
    "outputId": "782f20ae-ce36-4358-b74a-fc0d7d6e0c0f"
   },
   "outputs": [
    {
     "data": {
      "application/vnd.google.colaboratory.intrinsic+json": {
       "type": "string"
      },
      "text/plain": [
       "'yes_004ae714_nohash_0.wav'"
      ]
     },
     "execution_count": 77,
     "metadata": {
      "tags": []
     },
     "output_type": "execute_result"
    }
   ],
   "source": [
    "list(etalons_data_dict.keys())[0]"
   ]
  },
  {
   "cell_type": "code",
   "execution_count": 78,
   "metadata": {
    "colab": {
     "base_uri": "https://localhost:8080/"
    },
    "id": "1I8fCibFgPb9",
    "outputId": "4061c41f-5f95-4a36-a839-3f4508c586fa"
   },
   "outputs": [
    {
     "data": {
      "text/plain": [
       "array([[-668.8, -1.2,  4.5, ...,  4.1,  1.5, -5.5],\n",
       "       [-573.0,  0.3, -28.2, ...,  17.5,  28.3, -22.5],\n",
       "       [-629.2,  15.7, -15.2, ...,  12.9,  21.7, -12.8],\n",
       "       ...,\n",
       "       [-664.6,  9.0,  5.8, ...,  9.4,  5.8, -7.3],\n",
       "       [-646.0,  28.2,  10.1, ..., -0.2,  14.5, -1.6],\n",
       "       [-686.1, -1.5, -4.6, ..., -0.9,  15.7,  4.7]], dtype=float32)"
      ]
     },
     "execution_count": 78,
     "metadata": {
      "tags": []
     },
     "output_type": "execute_result"
    }
   ],
   "source": [
    "list(etalons_data_dict.values() )[0]"
   ]
  },
  {
   "cell_type": "code",
   "execution_count": 79,
   "metadata": {
    "colab": {
     "base_uri": "https://localhost:8080/"
    },
    "id": "6dyfAP3QgYjg",
    "outputId": "f496e382-9a52-4fa3-9c26-d1acdc51c1a1"
   },
   "outputs": [
    {
     "data": {
      "text/plain": [
       "(101, 13)"
      ]
     },
     "execution_count": 79,
     "metadata": {
      "tags": []
     },
     "output_type": "execute_result"
    }
   ],
   "source": [
    "list(etalons_data_dict.values() )[0].shape"
   ]
  },
  {
   "cell_type": "code",
   "execution_count": 80,
   "metadata": {
    "colab": {
     "base_uri": "https://localhost:8080/"
    },
    "id": "2xTbfklgXa4A",
    "outputId": "25ea6c31-a267-4a45-c8bb-6f9c59420dbb"
   },
   "outputs": [
    {
     "name": "stdout",
     "output_type": "stream",
     "text": [
      "*** See exp/graph.txt ***\n"
     ]
    }
   ],
   "source": [
    "graph = load_graph(etalons_data_dict)\n",
    "print_graph(graph)"
   ]
  },
  {
   "cell_type": "markdown",
   "metadata": {
    "id": "f6IgmAjjXkAS"
   },
   "source": [
    "Далее идет описание класса Token и самого алгоритма TPA:\n",
    "\n",
    "- Алгоритм TPA двигается последовательно по кадрам записи и на каждом кадре берёт множество токенов от предыдущего кадра, и порождает множество токенов для текущего кадра.\n",
    "- Один токен – это вещь, олицетворяющая собой один из возможных вариантов разметки (соотнесения кадров записи кадрам эталона), заканчивающаяся на данном кадре. По токену можно понять, какую суммарную дистанцию набрал данный токен (т.е. то, насколько он хорош), в каком узле графа эталонов он находится (чтобы от него можно было породить токен для следующего кадра), и на ветке какого слова он находится на данный момент.\n",
    "- На некотором кадре всё множество токенов описывает все возможные разметки, которые можно получить к данному кадру. После обработки последнего кадра, мы просто переберём все финальные токены (разметки) и выберем лучший (та, которая имеет минимальное суммарное расстояние от записи до эталона).\n",
    "- Финальные токены – это токены, которым соответствует законченная разметка (то есть та, в которой после финального кадра мы оказались в финальном узле графа). Остальные токены могу рассматриваться как бракованные.\n",
    "\n",
    "Получается, что TPA (в том виде, в котором он тут описан) – это удобная форма записи полного перебора всех возможных разметок."
   ]
  },
  {
   "cell_type": "markdown",
   "metadata": {
    "id": "oOyXHyDTXukI"
   },
   "source": [
    "### Проблемы:\n",
    "Такой TPA будет перебирать все возможные варианты разметки, что приведет к значительному увеличению времени работы нашего DTW. Для решения этой проблемы мы будем отбрасывать \"плохие\" токены еще на этапе прохождения по графу. Этим занимаются, так называемые, beam и state prunings.\n",
    "\n",
    "### <b>state pruning</b>:\n",
    "В классе State нужно добавить атрибут best_token – ссылку на лучший токен, находящийся в данном стейте на текущем кадре записи. После порождения всех токенов за один кадр записи, пройдемся по каждому из полученных next_tokens, затем впишем текущий токен в State.best_token (здесь State – это узел, на котором находится токен), убив предыдущий лучший токен, либо убьем сам токен, если он хуже лучшего на этом узле. За жизнеспособность токена отвечает его атрибут is_alive (True или False соответственно). Логика в том, что если несколько токенов находятся в узле n, то кратчайшее расстояние, которое им надо преодолеть до финиша одинаковое. Т.е. мы можем оставить только лучший из них, а остальные отсеять. Главное не забыть очистить поле best_token у всех узлов графа перед началом обработки следующего кадра записи.\n",
    "\n",
    "### <b>beam pruning</b>:\n",
    "Идея состоит в том, чтобы на каждом кадре записи находить плохие токены и откидывать их (token.is_alive = False). \n",
    "Плохие – это,очевидно, накопившие слишком большое отклонение от стейтов, по которым они идут. Слишком большое отклонение – это непонятно какое (может токен плохой, может слово слишком длинное, может звук очень плохой – не разобрать). Поэтому \"качество\" токена считают относительно лучшего токена. Заведем переменную threshold (обычно её называют beam – ширина луча поиска), и если token.dist > best_token.dist + threshold, то token плохой и мы его отбросим.\n",
    "Выкидывая какой-то токен из-за его отклонения, мы рискуем тем, что через сколько-то кадров все потомки выживших токенов могут оказаться очень плохими, а только потомки отброшенного токена оказались бы чудо как хороши. То есть, вводя threshold, мы вводим ошибку. Поэтому threshold нужно подобрать так, чтобы скорость работы алгоритма сильно выросла, а ошибка выросла незначительно.\n",
    "\n",
    "Введение этих методов может привести к тому, что у нас просто не окажется в конце выживших токенов в финальных узлах графа. Для того, чтобы иметь возможность выдавать результат в этом случае, мы введем дополнительный атрибут current_word у класса State. Теперь в любом узле каждой ветви будет храниться слово соответствующего эталона для этой ветви. \n",
    "\n",
    "Тогда в конце работы DTW, если у нас не будет живых финальных токенов, то мы просто выберем лучший из оставшихся и по полю state.current_word определим слово эталона."
   ]
  },
  {
   "cell_type": "code",
   "execution_count": 17,
   "metadata": {
    "id": "uXEO3yCoAISx"
   },
   "outputs": [],
   "source": [
    "def printToken(token):\n",
    "     print(\"state.best_token=\", token.state.best_token)\n",
    "     print(\"dist=\", token.dist)\n",
    "     print(\"word=\", token.word)\n",
    "     print(\"alive=\", token.alive)"
   ]
  },
  {
   "cell_type": "code",
   "execution_count": 64,
   "metadata": {
    "id": "Zvu-la1tXb0A"
   },
   "outputs": [],
   "source": [
    "class Token:\n",
    "    def __init__(self, state, dist=0.0, word=\"\"):\n",
    "        self.state = state       # стейт графа, в котором токен находится в текущий момент\n",
    "        self.dist = dist         # общая накопленная дистанция пути, пройденного токеном\n",
    "        self.word = word         # слово, которое распозналось токеном\n",
    "        self.alive = True        # является ли токен живым\n",
    " \n",
    " \n",
    "def beam_pruning(next_tokens, beam_threshold):\n",
    "    #--------------------------------TODO №1-----------------------------------\n",
    "    # 1. Ищем токен с лучшей дистанцией из next_tokens\n",
    "    # 2. Присваиваем token.aliv значение False, если дистанция этого токена больше, чем\n",
    "    #    длина лучшего токена + beam_threshold\n",
    "    #--------------------------------------------------------------------------\n",
    "   \n",
    "    distance = np.zeros(len(next_tokens))\n",
    "    for i in range(len(next_tokens)):\n",
    "      distance[i] = next_tokens[i].dist\n",
    "\n",
    "    best_token_index = np.argmin(distance)\n",
    "    thresh = distance[best_token_index] + beam_threshold\n",
    "    idx = np.where(distance > thresh)[0]\n",
    "    \n",
    "    verbose = False \n",
    "    if verbose:\n",
    "      print(\"next token distances = \", distance)\n",
    "      print(\"best token distance = \", best_token_index) \n",
    "      print(\"thresh = \", thresh)    \n",
    "      print(\"indexes of tokens to kill = \", idx)\n",
    "\n",
    "    for i in idx:\n",
    "       next_tokens[i].alive = False\n",
    "    \n",
    "    return next_tokens\n",
    " \n",
    " \n",
    "def state_pruning(next_tokens):\n",
    "    for token in next_tokens:  \n",
    "        if not token.state.best_token:\n",
    "            token.state.best_token = token\n",
    "        else:\n",
    "            if token.dist <= token.state.best_token.dist:\n",
    "                token.state.best_token.alive = False\n",
    "                token.state.best_token = token\n",
    "            else:\n",
    "                token.alive = False\n",
    "                \n",
    "    # сбрасываем best_token на None для всеx узлов графа:\n",
    "    for token in next_tokens:                                                   \n",
    "        if token.state.best_token:                     \n",
    "            token.state.best_token = None              \n",
    "    return next_tokens\n",
    " \n",
    " \n",
    "def distance(X, Y):\n",
    "    result = float(np.sqrt(sum(pow(X - Y, 2))))\n",
    "    return result\n",
    " \n",
    " \n",
    "def recognize(filename, features, graph, recognition_results, beam_threshold, verbose = True):\n",
    " \n",
    "    start_state = graph[0]\n",
    "    active_tokens = [Token(start_state), ]\n",
    "    next_tokens = []\n",
    "\n",
    " \n",
    "    for ftr_frame in tqdm(features, desc=\"recognition...\", disable= not verbose):#features are  mfcc, ftr_frame is a row of mfcc array\n",
    "        for token in active_tokens:\n",
    "            if token.alive:\n",
    "                for transition_state in token.state.next_states:\n",
    "                    new_token = Token(transition_state, token.dist, token.word)                 \n",
    "                    new_token.dist += distance(ftr_frame, transition_state.feats)\n",
    "                    next_tokens.append(new_token)\n",
    "        \n",
    " \n",
    "        # state and beam prunings:\n",
    "        next_tokens = state_pruning(next_tokens)  \n",
    "        #--------------------------------TODO №1-----------------------------------       \n",
    "        next_tokens = beam_pruning(next_tokens, beam_threshold) \n",
    "        #--------------------------------------------------------------------------\n",
    "        active_tokens = next_tokens\n",
    "        next_tokens = []                                    \n",
    "        \n",
    "    # поиск финальных токенов:\n",
    "    final_tokens = []\n",
    "    for token in active_tokens:\n",
    "        if token.state.is_final and token.alive:\n",
    "            final_tokens.append(token)\n",
    " \n",
    "    # если нет финальных, то берем лучший из выживших:\n",
    "    if len(final_tokens) != 0:\n",
    "        win_token = final_tokens[np.argmin([token.dist for token in final_tokens])]\n",
    "    else:\n",
    "        alive_tokens = [token for token in active_tokens if token.alive]\n",
    "        win_token = alive_tokens[np.argmin([token.dist for token in alive_tokens])]\n",
    "        win_token.state.word = win_token.state.current_word\n",
    " \n",
    "    # вывод результата DTW\n",
    "    if verbose:\n",
    "      print(f\"result: {filename} ==> {win_token.state.word}\")\n",
    " \n",
    "    # совпадает ли запись с полученным эталоном:  \n",
    "    record_word = filename.split('_')[0]\n",
    "    etalon_word = win_token.state.word.split('_')[0]\n",
    "    recognition_results.append(etalon_word == record_word)\n",
    " \n",
    "    return recognition_results"
   ]
  },
  {
   "cell_type": "markdown",
   "metadata": {
    "id": "7d5lcrUnX-Hs"
   },
   "source": [
    "### Запустим наше распознавание"
   ]
  },
  {
   "cell_type": "code",
   "execution_count": 32,
   "metadata": {
    "id": "gyOGKDeoX-xe"
   },
   "outputs": [],
   "source": [
    "def run_recognizer(records_data_dict, graph, beam_threshold=10, verbose=True):\n",
    "    start_time = time.time()\n",
    "    recognition_results = []\n",
    " \n",
    "    for filename in records_data_dict.keys():    \n",
    "        recognition_results = recognize(filename, records_data_dict[filename], \n",
    "                                        graph, recognition_results, beam_threshold, verbose)\n",
    "    if verbose:\n",
    "      print(\"-\" * 60)\n",
    "      print(f\"WER is: {(1 - sum(recognition_results)/len(recognition_results))*100:.2f}%\")\n",
    "      print(f\"Total time is: {time.time() - start_time:.2f} sec\")\n",
    "      print(\"-\" * 60)\n",
    "\n",
    "    WER = (1 - sum(recognition_results)/len(recognition_results))*100\n",
    "    t = time.time() - start_time\n",
    "    return WER, t"
   ]
  },
  {
   "cell_type": "code",
   "execution_count": 69,
   "metadata": {
    "colab": {
     "base_uri": "https://localhost:8080/",
     "height": 762,
     "referenced_widgets": [
      "0d10e051024f4cc091c018c828e57ede",
      "89d2dba6d9694a2a987f273fe1db007c",
      "0aadd6f323464ec9b7bb359a3424fa31",
      "9d34152311474129a3ac055dcf47325c",
      "ac3b3a632c134d0f855a908d2ffe3fc5",
      "4ed504992b42419d86c802e081473cca",
      "40f4a38bef1d4057b5aeff44412f32b8",
      "573a79c5305d41ddb922cedf98331eb3",
      "866292bda52646f38921d3a5392cf18b",
      "a21cfc802aaa4a089aebefb4aeabd160",
      "d91d595c98c048288e357ff23bf3f31f",
      "9ce61ac9fbda497b9cacee96df5bcffe",
      "794e1ec601ac44fd9b03385b753cc21a",
      "f0a072a2787248b4b6a81dc0f3ed9ac0",
      "0ef8bdeed4174694bbf38dc91b295137",
      "e65f86ee133341ae858877e9cea17ec2",
      "fb7b6bf091164819bfd5d5bdff6c396c",
      "8963cd61c47d43599b3fb25be966d88d",
      "d70750552b45488f8a52608ed2417953",
      "f471544c8a494191a1a1ca9b62f9ea12",
      "49961abd367c43539e40e41463a226ca",
      "89e880e5c8364fde87b1454cbad25e68",
      "68afdf57497a4435b4d192322d96b9ec",
      "a5a967f3f5dc499e92947406cdf528e9",
      "bb7d404b76504f90b84a85c202e3ca20",
      "cd23fc6a791f49d18b760730f362e916",
      "f23dd213aa694273b29c11a528985e92",
      "319b98fe815942d5b3978a85d3b394c9",
      "b6254035770f49e6980aa988dc9fd3b2",
      "37c18e6c086a4932a8cd16ab3abdbe1f",
      "5344e4b732674f4c984bf42426c02e68",
      "9533e98626344d7b9230934364288246",
      "79fd86c8400544608528821dbc7486b2",
      "c60ce3f2695146bba54c6259041daf10",
      "955737af77c84d25ad734fcca0317e12",
      "0b6bb6f0e35f43b694c0819357d3c70d",
      "218de6aba952436db91749aa69173f26",
      "dbcb8ee026164f6e892ffc31c5a118c0",
      "eb8d0293b8b94cd8935681e2746273af",
      "ddef1f4eabce41cc8cd487911a147dc1",
      "687b8acafdca4e4c900161a668f19dd7",
      "2a88e821ae5e42438c98067984aed41e",
      "089e2b49e36d43beb2f10eb10b863de2",
      "c37764120ab746a2a845941e7924f7e2",
      "0cd8465b148d4703b765844df78b1396",
      "05afa27afc504686ae0e28f000410a17",
      "88b05e58679e471cb52a8f385a6a350c",
      "3d6003fd13f14278b65ed1f48a48f239",
      "151e4715c68d40e1b3dbedc8dcac7fab",
      "c9a1a4c3fefa4dcbb152cf8ababfa502",
      "142cf54145bb4df689d7f7b19b9a9181",
      "bbf748981d9f446dad2364859477866b",
      "fef8a909cb454ec5a554c3c8632d97e1",
      "f5f57dd6da6541348bad581887b4cbb6",
      "2e21fa9e6ff14670b6ddb3f732a53114",
      "156b2fb5a44041c6913f91462b947876",
      "eb2d6cc4debe4713a91e3732156a0eac",
      "61cfc0020d0f4cf08db61c36d5fccee0",
      "c19a9ec771b34ab3b05cfebe4d7861d5",
      "06963a9c5d884bc5b60e8f9f0506ec30",
      "eb8b3b97e66b4efebd5aafe6f1435f53",
      "badfdef8253244b4bc86c10714521aa4",
      "a9dd273543c2421d87c9fd359d956f2c",
      "5562dc81f4d94157aa9e84e79f531f73",
      "423e2413027b4e84ab76b2f3e31c2f93",
      "91bdb179437645569fcef3878af3fda3",
      "daf5cada6ca047dfbaf92dd698290a8a",
      "91625328161b4b2d8f429c3d8027118e",
      "e600769622704f25a175e24e6cee3654",
      "65e1db8e9f504933a20574f4336a5371",
      "e45fb90ccb4447908244d21488fdf075",
      "4a69bf97084b41c09f546d68acc22a9d",
      "95ac71e43c534aa3a9b4d6693f4ac95b",
      "173c3a2ee2b942f6bf05dc607514a817",
      "0f904594cef6491f91e8669eed1ff597",
      "2980b28fb8f64d0bb285cdaefd56d9fc",
      "5ebda6549bf74350a5eb675fb498807b",
      "ce737db5c702448dbca5aff5261ea7a1",
      "d6452f51a129405392b49346e29df4d4",
      "8cf3c5c628e645ada877400a09c79427"
     ]
    },
    "id": "q8F_YQf_8wER",
    "outputId": "4ed0ac22-152b-465e-dd35-9ba0d1d220ba"
   },
   "outputs": [
    {
     "data": {
      "application/vnd.jupyter.widget-view+json": {
       "model_id": "0d10e051024f4cc091c018c828e57ede",
       "version_major": 2,
       "version_minor": 0
      },
      "text/plain": [
       "HBox(children=(FloatProgress(value=0.0, description='recognition...', max=101.0, style=ProgressStyle(descripti…"
      ]
     },
     "metadata": {
      "tags": []
     },
     "output_type": "display_data"
    },
    {
     "name": "stdout",
     "output_type": "stream",
     "text": [
      "\n",
      "result: yes_39a12648_nohash_0.wav ==> yes_0137b3f4_nohash_2.wav\n"
     ]
    },
    {
     "data": {
      "application/vnd.jupyter.widget-view+json": {
       "model_id": "866292bda52646f38921d3a5392cf18b",
       "version_major": 2,
       "version_minor": 0
      },
      "text/plain": [
       "HBox(children=(FloatProgress(value=0.0, description='recognition...', max=86.0, style=ProgressStyle(descriptio…"
      ]
     },
     "metadata": {
      "tags": []
     },
     "output_type": "display_data"
    },
    {
     "name": "stdout",
     "output_type": "stream",
     "text": [
      "\n",
      "result: yes_ff63ab0b_nohash_0.wav ==> yes_0137b3f4_nohash_2.wav\n"
     ]
    },
    {
     "data": {
      "application/vnd.jupyter.widget-view+json": {
       "model_id": "fb7b6bf091164819bfd5d5bdff6c396c",
       "version_major": 2,
       "version_minor": 0
      },
      "text/plain": [
       "HBox(children=(FloatProgress(value=0.0, description='recognition...', max=101.0, style=ProgressStyle(descripti…"
      ]
     },
     "metadata": {
      "tags": []
     },
     "output_type": "display_data"
    },
    {
     "name": "stdout",
     "output_type": "stream",
     "text": [
      "\n",
      "result: no_ad89eb1e_nohash_0.wav ==> yes_00f0204f_nohash_0.wav\n"
     ]
    },
    {
     "data": {
      "application/vnd.jupyter.widget-view+json": {
       "model_id": "bb7d404b76504f90b84a85c202e3ca20",
       "version_major": 2,
       "version_minor": 0
      },
      "text/plain": [
       "HBox(children=(FloatProgress(value=0.0, description='recognition...', max=101.0, style=ProgressStyle(descripti…"
      ]
     },
     "metadata": {
      "tags": []
     },
     "output_type": "display_data"
    },
    {
     "name": "stdout",
     "output_type": "stream",
     "text": [
      "\n",
      "result: no_41474817_nohash_0.wav ==> no_01648c51_nohash_1.wav\n"
     ]
    },
    {
     "data": {
      "application/vnd.jupyter.widget-view+json": {
       "model_id": "79fd86c8400544608528821dbc7486b2",
       "version_major": 2,
       "version_minor": 0
      },
      "text/plain": [
       "HBox(children=(FloatProgress(value=0.0, description='recognition...', max=101.0, style=ProgressStyle(descripti…"
      ]
     },
     "metadata": {
      "tags": []
     },
     "output_type": "display_data"
    },
    {
     "name": "stdout",
     "output_type": "stream",
     "text": [
      "\n",
      "result: yes_fe1916ba_nohash_0.wav ==> yes_0137b3f4_nohash_2.wav\n"
     ]
    },
    {
     "data": {
      "application/vnd.jupyter.widget-view+json": {
       "model_id": "687b8acafdca4e4c900161a668f19dd7",
       "version_major": 2,
       "version_minor": 0
      },
      "text/plain": [
       "HBox(children=(FloatProgress(value=0.0, description='recognition...', max=101.0, style=ProgressStyle(descripti…"
      ]
     },
     "metadata": {
      "tags": []
     },
     "output_type": "display_data"
    },
    {
     "name": "stdout",
     "output_type": "stream",
     "text": [
      "\n",
      "result: yes_fc94edb0_nohash_0.wav ==> yes_00f0204f_nohash_0.wav\n"
     ]
    },
    {
     "data": {
      "application/vnd.jupyter.widget-view+json": {
       "model_id": "151e4715c68d40e1b3dbedc8dcac7fab",
       "version_major": 2,
       "version_minor": 0
      },
      "text/plain": [
       "HBox(children=(FloatProgress(value=0.0, description='recognition...', max=101.0, style=ProgressStyle(descripti…"
      ]
     },
     "metadata": {
      "tags": []
     },
     "output_type": "display_data"
    },
    {
     "name": "stdout",
     "output_type": "stream",
     "text": [
      "\n",
      "result: no_4394fc7c_nohash_0.wav ==> no_019fa366_nohash_0.wav\n"
     ]
    },
    {
     "data": {
      "application/vnd.jupyter.widget-view+json": {
       "model_id": "eb2d6cc4debe4713a91e3732156a0eac",
       "version_major": 2,
       "version_minor": 0
      },
      "text/plain": [
       "HBox(children=(FloatProgress(value=0.0, description='recognition...', max=101.0, style=ProgressStyle(descripti…"
      ]
     },
     "metadata": {
      "tags": []
     },
     "output_type": "display_data"
    },
    {
     "name": "stdout",
     "output_type": "stream",
     "text": [
      "\n",
      "result: no_49af4432_nohash_0.wav ==> no_019fa366_nohash_0.wav\n"
     ]
    },
    {
     "data": {
      "application/vnd.jupyter.widget-view+json": {
       "model_id": "423e2413027b4e84ab76b2f3e31c2f93",
       "version_major": 2,
       "version_minor": 0
      },
      "text/plain": [
       "HBox(children=(FloatProgress(value=0.0, description='recognition...', max=101.0, style=ProgressStyle(descripti…"
      ]
     },
     "metadata": {
      "tags": []
     },
     "output_type": "display_data"
    },
    {
     "name": "stdout",
     "output_type": "stream",
     "text": [
      "\n",
      "result: yes_39a6b995_nohash_0.wav ==> yes_0137b3f4_nohash_2.wav\n"
     ]
    },
    {
     "data": {
      "application/vnd.jupyter.widget-view+json": {
       "model_id": "95ac71e43c534aa3a9b4d6693f4ac95b",
       "version_major": 2,
       "version_minor": 0
      },
      "text/plain": [
       "HBox(children=(FloatProgress(value=0.0, description='recognition...', max=101.0, style=ProgressStyle(descripti…"
      ]
     },
     "metadata": {
      "tags": []
     },
     "output_type": "display_data"
    },
    {
     "name": "stdout",
     "output_type": "stream",
     "text": [
      "\n",
      "result: no_4abb2400_nohash_0.wav ==> no_01648c51_nohash_1.wav\n",
      "------------------------------------------------------------\n",
      "WER is: 10.00%\n",
      "Total time is: 4.43 sec\n",
      "------------------------------------------------------------\n"
     ]
    },
    {
     "data": {
      "text/plain": [
       "(9.999999999999998, 4.430115222930908)"
      ]
     },
     "execution_count": 69,
     "metadata": {
      "tags": []
     },
     "output_type": "execute_result"
    }
   ],
   "source": [
    "run_recognizer(records_data_dict, graph, beam_threshold=2600, verbose = True)"
   ]
  },
  {
   "cell_type": "code",
   "execution_count": 65,
   "metadata": {
    "id": "5OrSn2WoYB29"
   },
   "outputs": [],
   "source": [
    "thresholds = np.arange(0, 3000, 100)\n",
    "\n",
    "WER = []\n",
    "total_time = []\n",
    "\n",
    "for thr in thresholds:\n",
    "  w, t = run_recognizer(records_data_dict, graph, thr, False)\n",
    "  WER.append(w)\n",
    "  total_time.append(t)"
   ]
  },
  {
   "cell_type": "code",
   "execution_count": 71,
   "metadata": {
    "colab": {
     "base_uri": "https://localhost:8080/",
     "height": 657
    },
    "id": "j4GaEbLk-Fcw",
    "outputId": "7c38d062-0ce0-4a60-8147-5fba584ed5f9"
   },
   "outputs": [
    {
     "data": {
      "image/png": "[encoded data removed]",
      "text/plain": [
       "<Figure size 1080x360 with 1 Axes>"
      ]
     },
     "metadata": {
      "needs_background": "light",
      "tags": []
     },
     "output_type": "display_data"
    },
    {
     "data": {
      "image/png": "[encoded data removed]",
      "text/plain": [
       "<Figure size 1080x360 with 1 Axes>"
      ]
     },
     "metadata": {
      "needs_background": "light",
      "tags": []
     },
     "output_type": "display_data"
    }
   ],
   "source": [
    "import matplotlib.pyplot as plt\n",
    "\n",
    "plt.figure()\n",
    "plt.plot(thresholds, WER, \"o-\")\n",
    "plt.xlabel(\"beam_threshold\")\n",
    "plt.ylabel(\"WER, %\")\n",
    "plt.xlim([0, 3000])\n",
    "plt.ylim([0, 50])\n",
    "plt.grid()\n",
    "\n",
    "\n",
    "plt.figure()\n",
    "plt.plot(thresholds, total_time, \"o-\")\n",
    "# plt.axhline(y=16.63, color='r', linestyle='-')\n",
    "plt.xlabel(\"beam_threshold\")\n",
    "plt.ylabel(\"Total time, s\")\n",
    "plt.xlim([0, 3000])\n",
    "plt.grid()\n",
    "plt.show()"
   ]
  },
  {
   "cell_type": "code",
   "execution_count": 67,
   "metadata": {
    "colab": {
     "base_uri": "https://localhost:8080/"
    },
    "id": "-EZmPklDA9Ex",
    "outputId": "9ca2a522-7e94-4a2c-bc29-3396d79ea285"
   },
   "outputs": [
    {
     "data": {
      "text/plain": [
       "array([   0,  100,  200,  300,  400,  500,  600,  700,  800,  900, 1000,\n",
       "       1100, 1200, 1300, 1400, 1500, 1600, 1700, 1800, 1900, 2000, 2100,\n",
       "       2200, 2300, 2400, 2500, 2600, 2700, 2800, 2900])"
      ]
     },
     "execution_count": 67,
     "metadata": {
      "tags": []
     },
     "output_type": "execute_result"
    }
   ],
   "source": [
    "thresholds"
   ]
  },
  {
   "cell_type": "markdown",
   "metadata": {
    "id": "qoYSL3bkY6U_"
   },
   "source": [
    "### <b>Задание №1</b>  (6 баллов):\n",
    "Реализуйте функцию отсечения токенов <b>beam pruning</b>, описанную ранее. Подберие значение beam_threshold так, чтобы качество распознаваниия не ухудшалось. Во сколько раз ускорился процесс распознавания?"
   ]
  },
  {
   "cell_type": "markdown",
   "metadata": {
    "id": "ncGbZMnp5lWK"
   },
   "source": [
    "With state pruning only:\n",
    "\n",
    "> WER is: 10.00%\n",
    "> Total time is: 16.63 sec\n",
    "\n",
    "\n",
    "\n",
    "    "
   ]
  },
  {
   "cell_type": "markdown",
   "metadata": {
    "id": "6IbscjzF6Z6p"
   },
   "source": [
    "With beam pruning:\n",
    "\n",
    "```markdown\n",
    "beam_threshold  | WER, % | Total time*, s\n",
    "----------------|--------|----------\n",
    " 10             | 50     | 0.84\n",
    " 60             | 40     | 1.03\n",
    " 80             | 20     | 1.12\n",
    " 2600           | 10     | 4.43\n",
    "\n",
    "```\n",
    "*When verbose=True. Plot with verbose=False.\n",
    "Optimal beam threshold = 2600. Total time 4.43 s."
   ]
  },
  {
   "cell_type": "code",
   "execution_count": 72,
   "metadata": {
    "colab": {
     "base_uri": "https://localhost:8080/"
    },
    "id": "8HSM45gOCL5I",
    "outputId": "b9f2517b-0e11-435f-b99c-786e97953042"
   },
   "outputs": [
    {
     "name": "stdout",
     "output_type": "stream",
     "text": [
      "Процесс распознавания ускорился в \n",
      "3.7539503386004514\n"
     ]
    }
   ],
   "source": [
    "print(\"Процесс распознавания ускорился в \")\n",
    "print(16.63 / 4.43)"
   ]
  },
  {
   "cell_type": "markdown",
   "metadata": {
    "id": "JM5YlLVXY7GA"
   },
   "source": [
    "### <b>Задание №2</b> (4 балла):\n",
    "На данный момент граф реализован так, что эталоны могут только растягиваться относительно записей. Но порой нужно уметь и сжиматься. Для этого нужно добавить для узлов графа дополнительные переходы через один и два состояния (нулевой узел должен остаться прежним).\n",
    "\n",
    "Улучшила ли эта модификация качество распознавания?"
   ]
  },
  {
   "cell_type": "markdown",
   "metadata": {
    "id": "TE1OYISYKBIP"
   },
   "source": [
    "\n",
    "\n",
    "*   Для варианта без beam pruning WER упала до 0\n",
    "*   Для варианта с beam pruning и порога 80 не улучшила: качество было 20%, стало 30% (локальный минимум пропал). Однако для более высоких порогов произошло улучшение.\n"
   ]
  },
  {
   "cell_type": "code",
   "execution_count": 82,
   "metadata": {
    "id": "kPdrbZZJJ_HR"
   },
   "outputs": [],
   "source": [
    "thresholds = np.arange(0, 3100, 100)\n",
    "\n",
    "WER2 = []\n",
    "total_time2 = []\n",
    "\n",
    "for thr in thresholds:\n",
    "  w, t = run_recognizer(records_data_dict, graph, beam_threshold=thr, verbose=False)\n",
    "  WER2.append(w)\n",
    "  total_time2.append(t)"
   ]
  },
  {
   "cell_type": "code",
   "execution_count": 83,
   "metadata": {
    "colab": {
     "base_uri": "https://localhost:8080/",
     "height": 653
    },
    "id": "9RV_xpVmKAp_",
    "outputId": "a4878815-cff2-463b-a85a-a3b2f7a1717b"
   },
   "outputs": [
    {
     "data": {
      "image/png": "[encoded data removed]",
      "text/plain": [
       "<Figure size 1080x360 with 1 Axes>"
      ]
     },
     "metadata": {
      "needs_background": "light",
      "tags": []
     },
     "output_type": "display_data"
    },
    {
     "data": {
      "image/png": "[encoded data removed]",
      "text/plain": [
       "<Figure size 1080x360 with 1 Axes>"
      ]
     },
     "metadata": {
      "needs_background": "light",
      "tags": []
     },
     "output_type": "display_data"
    }
   ],
   "source": [
    "import matplotlib.pyplot as plt\n",
    "\n",
    "plt.figure()\n",
    "plt.plot(thresholds, WER2, \"-o\")\n",
    "plt.xlabel(\"beam_threshold\")\n",
    "plt.ylabel(\"WER, %\")\n",
    "plt.xlim([0, 3000])\n",
    "plt.grid()\n",
    "\n",
    "\n",
    "plt.figure()\n",
    "plt.plot(thresholds, total_time2, \"-o\")\n",
    "plt.axhline(y=16.63, color='r', linestyle='-')\n",
    "plt.xlabel(\"beam_threshold\")\n",
    "plt.ylabel(\"Total time, s\")\n",
    "plt.xlim([0, 3000])\n",
    "plt.grid()\n",
    "plt.show()"
   ]
  },
  {
   "cell_type": "code",
   "execution_count": null,
   "metadata": {
    "id": "Kj3mZ5pobTJE"
   },
   "outputs": [],
   "source": [
    "import numpy"
   ]
  },
  {
   "cell_type": "code",
   "execution_count": null,
   "metadata": {
    "colab": {
     "base_uri": "https://localhost:8080/"
    },
    "id": "tJN53YRkbU3A",
    "outputId": "41959600-b637-42fd-d53a-ad592ef61e58"
   },
   "outputs": [
    {
     "name": "stdout",
     "output_type": "stream",
     "text": [
      "/bin/bash: OMP_NUM_THREADS: command not found\n"
     ]
    }
   ],
   "source": [
    "!OMP_NUM_THREADS"
   ]
  },
  {
   "cell_type": "code",
   "execution_count": null,
   "metadata": {
    "id": "CaUBE6jKbZAt"
   },
   "outputs": [],
   "source": []
  }
 ],
 "metadata": {
  "colab": {
   "collapsed_sections": [],
   "name": "asr_lab_1.ipynb",
   "provenance": [],
   "toc_visible": true
  },
  "kernelspec": {
   "display_name": "Python 3",
   "language": "python",
   "name": "python3"
  },
  "language_info": {
   "codemirror_mode": {
    "name": "ipython",
    "version": 3
   },
   "file_extension": ".py",
   "mimetype": "text/x-python",
   "name": "python",
   "nbconvert_exporter": "python",
   "pygments_lexer": "ipython3",
   "version": "3.7.1"
  },
  "widgets": {
   "application/vnd.jupyter.widget-state+json": {
    "05afa27afc504686ae0e28f000410a17": {
     "model_module": "@jupyter-widgets/base",
     "model_name": "LayoutModel",
     "state": {
      "_model_module": "@jupyter-widgets/base",
      "_model_module_version": "1.2.0",
      "_model_name": "LayoutModel",
      "_view_count": null,
      "_view_module": "@jupyter-widgets/base",
      "_view_module_version": "1.2.0",
      "_view_name": "LayoutView",
      "align_content": null,
      "align_items": null,
      "align_self": null,
      "border": null,
      "bottom": null,
      "display": null,
      "flex": null,
      "flex_flow": null,
      "grid_area": null,
      "grid_auto_columns": null,
      "grid_auto_flow": null,
      "grid_auto_rows": null,
      "grid_column": null,
      "grid_gap": null,
      "grid_row": null,
      "grid_template_areas": null,
      "grid_template_columns": null,
      "grid_template_rows": null,
      "height": null,
      "justify_content": null,
      "justify_items": null,
      "left": null,
      "margin": null,
      "max_height": null,
      "max_width": null,
      "min_height": null,
      "min_width": null,
      "object_fit": null,
      "object_position": null,
      "order": null,
      "overflow": null,
      "overflow_x": null,
      "overflow_y": null,
      "padding": null,
      "right": null,
      "top": null,
      "visibility": null,
      "width": null
     }
    },
    "06963a9c5d884bc5b60e8f9f0506ec30": {
     "model_module": "@jupyter-widgets/controls",
     "model_name": "HTMLModel",
     "state": {
      "_dom_classes": [],
      "_model_module": "@jupyter-widgets/controls",
      "_model_module_version": "1.5.0",
      "_model_name": "HTMLModel",
      "_view_count": null,
      "_view_module": "@jupyter-widgets/controls",
      "_view_module_version": "1.5.0",
      "_view_name": "HTMLView",
      "description": "",
      "description_tooltip": null,
      "layout": "IPY_MODEL_5562dc81f4d94157aa9e84e79f531f73",
      "placeholder": "​",
      "style": "IPY_MODEL_a9dd273543c2421d87c9fd359d956f2c",
      "value": " 101/101 [05:03&lt;00:00,  3.01s/it]"
     }
    },
    "089e2b49e36d43beb2f10eb10b863de2": {
     "model_module": "@jupyter-widgets/controls",
     "model_name": "FloatProgressModel",
     "state": {
      "_dom_classes": [],
      "_model_module": "@jupyter-widgets/controls",
      "_model_module_version": "1.5.0",
      "_model_name": "FloatProgressModel",
      "_view_count": null,
      "_view_module": "@jupyter-widgets/controls",
      "_view_module_version": "1.5.0",
      "_view_name": "ProgressView",
      "bar_style": "success",
      "description": "recognition...: 100%",
      "description_tooltip": null,
      "layout": "IPY_MODEL_05afa27afc504686ae0e28f000410a17",
      "max": 101,
      "min": 0,
      "orientation": "horizontal",
      "style": "IPY_MODEL_0cd8465b148d4703b765844df78b1396",
      "value": 101
     }
    },
    "0aadd6f323464ec9b7bb359a3424fa31": {
     "model_module": "@jupyter-widgets/controls",
     "model_name": "FloatProgressModel",
     "state": {
      "_dom_classes": [],
      "_model_module": "@jupyter-widgets/controls",
      "_model_module_version": "1.5.0",
      "_model_name": "FloatProgressModel",
      "_view_count": null,
      "_view_module": "@jupyter-widgets/controls",
      "_view_module_version": "1.5.0",
      "_view_name": "ProgressView",
      "bar_style": "success",
      "description": "recognition...: 100%",
      "description_tooltip": null,
      "layout": "IPY_MODEL_4ed504992b42419d86c802e081473cca",
      "max": 101,
      "min": 0,
      "orientation": "horizontal",
      "style": "IPY_MODEL_ac3b3a632c134d0f855a908d2ffe3fc5",
      "value": 101
     }
    },
    "0b6bb6f0e35f43b694c0819357d3c70d": {
     "model_module": "@jupyter-widgets/controls",
     "model_name": "HTMLModel",
     "state": {
      "_dom_classes": [],
      "_model_module": "@jupyter-widgets/controls",
      "_model_module_version": "1.5.0",
      "_model_name": "HTMLModel",
      "_view_count": null,
      "_view_module": "@jupyter-widgets/controls",
      "_view_module_version": "1.5.0",
      "_view_name": "HTMLView",
      "description": "",
      "description_tooltip": null,
      "layout": "IPY_MODEL_ddef1f4eabce41cc8cd487911a147dc1",
      "placeholder": "​",
      "style": "IPY_MODEL_eb8d0293b8b94cd8935681e2746273af",
      "value": " 101/101 [05:05&lt;00:00,  3.02s/it]"
     }
    },
    "0cd8465b148d4703b765844df78b1396": {
     "model_module": "@jupyter-widgets/controls",
     "model_name": "ProgressStyleModel",
     "state": {
      "_model_module": "@jupyter-widgets/controls",
      "_model_module_version": "1.5.0",
      "_model_name": "ProgressStyleModel",
      "_view_count": null,
      "_view_module": "@jupyter-widgets/base",
      "_view_module_version": "1.2.0",
      "_view_name": "StyleView",
      "bar_color": null,
      "description_width": "initial"
     }
    },
    "0d10e051024f4cc091c018c828e57ede": {
     "model_module": "@jupyter-widgets/controls",
     "model_name": "HBoxModel",
     "state": {
      "_dom_classes": [],
      "_model_module": "@jupyter-widgets/controls",
      "_model_module_version": "1.5.0",
      "_model_name": "HBoxModel",
      "_view_count": null,
      "_view_module": "@jupyter-widgets/controls",
      "_view_module_version": "1.5.0",
      "_view_name": "HBoxView",
      "box_style": "",
      "children": [
       "IPY_MODEL_0aadd6f323464ec9b7bb359a3424fa31",
       "IPY_MODEL_9d34152311474129a3ac055dcf47325c"
      ],
      "layout": "IPY_MODEL_89d2dba6d9694a2a987f273fe1db007c"
     }
    },
    "0ef8bdeed4174694bbf38dc91b295137": {
     "model_module": "@jupyter-widgets/controls",
     "model_name": "DescriptionStyleModel",
     "state": {
      "_model_module": "@jupyter-widgets/controls",
      "_model_module_version": "1.5.0",
      "_model_name": "DescriptionStyleModel",
      "_view_count": null,
      "_view_module": "@jupyter-widgets/base",
      "_view_module_version": "1.2.0",
      "_view_name": "StyleView",
      "description_width": ""
     }
    },
    "0f904594cef6491f91e8669eed1ff597": {
     "model_module": "@jupyter-widgets/controls",
     "model_name": "FloatProgressModel",
     "state": {
      "_dom_classes": [],
      "_model_module": "@jupyter-widgets/controls",
      "_model_module_version": "1.5.0",
      "_model_name": "FloatProgressModel",
      "_view_count": null,
      "_view_module": "@jupyter-widgets/controls",
      "_view_module_version": "1.5.0",
      "_view_name": "ProgressView",
      "bar_style": "success",
      "description": "recognition...: 100%",
      "description_tooltip": null,
      "layout": "IPY_MODEL_ce737db5c702448dbca5aff5261ea7a1",
      "max": 101,
      "min": 0,
      "orientation": "horizontal",
      "style": "IPY_MODEL_5ebda6549bf74350a5eb675fb498807b",
      "value": 101
     }
    },
    "142cf54145bb4df689d7f7b19b9a9181": {
     "model_module": "@jupyter-widgets/controls",
     "model_name": "FloatProgressModel",
     "state": {
      "_dom_classes": [],
      "_model_module": "@jupyter-widgets/controls",
      "_model_module_version": "1.5.0",
      "_model_name": "FloatProgressModel",
      "_view_count": null,
      "_view_module": "@jupyter-widgets/controls",
      "_view_module_version": "1.5.0",
      "_view_name": "ProgressView",
      "bar_style": "success",
      "description": "recognition...: 100%",
      "description_tooltip": null,
      "layout": "IPY_MODEL_f5f57dd6da6541348bad581887b4cbb6",
      "max": 101,
      "min": 0,
      "orientation": "horizontal",
      "style": "IPY_MODEL_fef8a909cb454ec5a554c3c8632d97e1",
      "value": 101
     }
    },
    "151e4715c68d40e1b3dbedc8dcac7fab": {
     "model_module": "@jupyter-widgets/controls",
     "model_name": "HBoxModel",
     "state": {
      "_dom_classes": [],
      "_model_module": "@jupyter-widgets/controls",
      "_model_module_version": "1.5.0",
      "_model_name": "HBoxModel",
      "_view_count": null,
      "_view_module": "@jupyter-widgets/controls",
      "_view_module_version": "1.5.0",
      "_view_name": "HBoxView",
      "box_style": "",
      "children": [
       "IPY_MODEL_142cf54145bb4df689d7f7b19b9a9181",
       "IPY_MODEL_bbf748981d9f446dad2364859477866b"
      ],
      "layout": "IPY_MODEL_c9a1a4c3fefa4dcbb152cf8ababfa502"
     }
    },
    "156b2fb5a44041c6913f91462b947876": {
     "model_module": "@jupyter-widgets/base",
     "model_name": "LayoutModel",
     "state": {
      "_model_module": "@jupyter-widgets/base",
      "_model_module_version": "1.2.0",
      "_model_name": "LayoutModel",
      "_view_count": null,
      "_view_module": "@jupyter-widgets/base",
      "_view_module_version": "1.2.0",
      "_view_name": "LayoutView",
      "align_content": null,
      "align_items": null,
      "align_self": null,
      "border": null,
      "bottom": null,
      "display": null,
      "flex": null,
      "flex_flow": null,
      "grid_area": null,
      "grid_auto_columns": null,
      "grid_auto_flow": null,
      "grid_auto_rows": null,
      "grid_column": null,
      "grid_gap": null,
      "grid_row": null,
      "grid_template_areas": null,
      "grid_template_columns": null,
      "grid_template_rows": null,
      "height": null,
      "justify_content": null,
      "justify_items": null,
      "left": null,
      "margin": null,
      "max_height": null,
      "max_width": null,
      "min_height": null,
      "min_width": null,
      "object_fit": null,
      "object_position": null,
      "order": null,
      "overflow": null,
      "overflow_x": null,
      "overflow_y": null,
      "padding": null,
      "right": null,
      "top": null,
      "visibility": null,
      "width": null
     }
    },
    "173c3a2ee2b942f6bf05dc607514a817": {
     "model_module": "@jupyter-widgets/base",
     "model_name": "LayoutModel",
     "state": {
      "_model_module": "@jupyter-widgets/base",
      "_model_module_version": "1.2.0",
      "_model_name": "LayoutModel",
      "_view_count": null,
      "_view_module": "@jupyter-widgets/base",
      "_view_module_version": "1.2.0",
      "_view_name": "LayoutView",
      "align_content": null,
      "align_items": null,
      "align_self": null,
      "border": null,
      "bottom": null,
      "display": null,
      "flex": null,
      "flex_flow": null,
      "grid_area": null,
      "grid_auto_columns": null,
      "grid_auto_flow": null,
      "grid_auto_rows": null,
      "grid_column": null,
      "grid_gap": null,
      "grid_row": null,
      "grid_template_areas": null,
      "grid_template_columns": null,
      "grid_template_rows": null,
      "height": null,
      "justify_content": null,
      "justify_items": null,
      "left": null,
      "margin": null,
      "max_height": null,
      "max_width": null,
      "min_height": null,
      "min_width": null,
      "object_fit": null,
      "object_position": null,
      "order": null,
      "overflow": null,
      "overflow_x": null,
      "overflow_y": null,
      "padding": null,
      "right": null,
      "top": null,
      "visibility": null,
      "width": null
     }
    },
    "218de6aba952436db91749aa69173f26": {
     "model_module": "@jupyter-widgets/controls",
     "model_name": "ProgressStyleModel",
     "state": {
      "_model_module": "@jupyter-widgets/controls",
      "_model_module_version": "1.5.0",
      "_model_name": "ProgressStyleModel",
      "_view_count": null,
      "_view_module": "@jupyter-widgets/base",
      "_view_module_version": "1.2.0",
      "_view_name": "StyleView",
      "bar_color": null,
      "description_width": "initial"
     }
    },
    "2980b28fb8f64d0bb285cdaefd56d9fc": {
     "model_module": "@jupyter-widgets/controls",
     "model_name": "HTMLModel",
     "state": {
      "_dom_classes": [],
      "_model_module": "@jupyter-widgets/controls",
      "_model_module_version": "1.5.0",
      "_model_name": "HTMLModel",
      "_view_count": null,
      "_view_module": "@jupyter-widgets/controls",
      "_view_module_version": "1.5.0",
      "_view_name": "HTMLView",
      "description": "",
      "description_tooltip": null,
      "layout": "IPY_MODEL_8cf3c5c628e645ada877400a09c79427",
      "placeholder": "​",
      "style": "IPY_MODEL_d6452f51a129405392b49346e29df4d4",
      "value": " 101/101 [05:02&lt;00:00,  3.00s/it]"
     }
    },
    "2a88e821ae5e42438c98067984aed41e": {
     "model_module": "@jupyter-widgets/base",
     "model_name": "LayoutModel",
     "state": {
      "_model_module": "@jupyter-widgets/base",
      "_model_module_version": "1.2.0",
      "_model_name": "LayoutModel",
      "_view_count": null,
      "_view_module": "@jupyter-widgets/base",
      "_view_module_version": "1.2.0",
      "_view_name": "LayoutView",
      "align_content": null,
      "align_items": null,
      "align_self": null,
      "border": null,
      "bottom": null,
      "display": null,
      "flex": null,
      "flex_flow": null,
      "grid_area": null,
      "grid_auto_columns": null,
      "grid_auto_flow": null,
      "grid_auto_rows": null,
      "grid_column": null,
      "grid_gap": null,
      "grid_row": null,
      "grid_template_areas": null,
      "grid_template_columns": null,
      "grid_template_rows": null,
      "height": null,
      "justify_content": null,
      "justify_items": null,
      "left": null,
      "margin": null,
      "max_height": null,
      "max_width": null,
      "min_height": null,
      "min_width": null,
      "object_fit": null,
      "object_position": null,
      "order": null,
      "overflow": null,
      "overflow_x": null,
      "overflow_y": null,
      "padding": null,
      "right": null,
      "top": null,
      "visibility": null,
      "width": null
     }
    },
    "2e21fa9e6ff14670b6ddb3f732a53114": {
     "model_module": "@jupyter-widgets/controls",
     "model_name": "DescriptionStyleModel",
     "state": {
      "_model_module": "@jupyter-widgets/controls",
      "_model_module_version": "1.5.0",
      "_model_name": "DescriptionStyleModel",
      "_view_count": null,
      "_view_module": "@jupyter-widgets/base",
      "_view_module_version": "1.2.0",
      "_view_name": "StyleView",
      "description_width": ""
     }
    },
    "319b98fe815942d5b3978a85d3b394c9": {
     "model_module": "@jupyter-widgets/controls",
     "model_name": "HTMLModel",
     "state": {
      "_dom_classes": [],
      "_model_module": "@jupyter-widgets/controls",
      "_model_module_version": "1.5.0",
      "_model_name": "HTMLModel",
      "_view_count": null,
      "_view_module": "@jupyter-widgets/controls",
      "_view_module_version": "1.5.0",
      "_view_name": "HTMLView",
      "description": "",
      "description_tooltip": null,
      "layout": "IPY_MODEL_9533e98626344d7b9230934364288246",
      "placeholder": "​",
      "style": "IPY_MODEL_5344e4b732674f4c984bf42426c02e68",
      "value": " 101/101 [00:00&lt;00:00, 248.73it/s]"
     }
    },
    "37c18e6c086a4932a8cd16ab3abdbe1f": {
     "model_module": "@jupyter-widgets/base",
     "model_name": "LayoutModel",
     "state": {
      "_model_module": "@jupyter-widgets/base",
      "_model_module_version": "1.2.0",
      "_model_name": "LayoutModel",
      "_view_count": null,
      "_view_module": "@jupyter-widgets/base",
      "_view_module_version": "1.2.0",
      "_view_name": "LayoutView",
      "align_content": null,
      "align_items": null,
      "align_self": null,
      "border": null,
      "bottom": null,
      "display": null,
      "flex": null,
      "flex_flow": null,
      "grid_area": null,
      "grid_auto_columns": null,
      "grid_auto_flow": null,
      "grid_auto_rows": null,
      "grid_column": null,
      "grid_gap": null,
      "grid_row": null,
      "grid_template_areas": null,
      "grid_template_columns": null,
      "grid_template_rows": null,
      "height": null,
      "justify_content": null,
      "justify_items": null,
      "left": null,
      "margin": null,
      "max_height": null,
      "max_width": null,
      "min_height": null,
      "min_width": null,
      "object_fit": null,
      "object_position": null,
      "order": null,
      "overflow": null,
      "overflow_x": null,
      "overflow_y": null,
      "padding": null,
      "right": null,
      "top": null,
      "visibility": null,
      "width": null
     }
    },
    "3d6003fd13f14278b65ed1f48a48f239": {
     "model_module": "@jupyter-widgets/base",
     "model_name": "LayoutModel",
     "state": {
      "_model_module": "@jupyter-widgets/base",
      "_model_module_version": "1.2.0",
      "_model_name": "LayoutModel",
      "_view_count": null,
      "_view_module": "@jupyter-widgets/base",
      "_view_module_version": "1.2.0",
      "_view_name": "LayoutView",
      "align_content": null,
      "align_items": null,
      "align_self": null,
      "border": null,
      "bottom": null,
      "display": null,
      "flex": null,
      "flex_flow": null,
      "grid_area": null,
      "grid_auto_columns": null,
      "grid_auto_flow": null,
      "grid_auto_rows": null,
      "grid_column": null,
      "grid_gap": null,
      "grid_row": null,
      "grid_template_areas": null,
      "grid_template_columns": null,
      "grid_template_rows": null,
      "height": null,
      "justify_content": null,
      "justify_items": null,
      "left": null,
      "margin": null,
      "max_height": null,
      "max_width": null,
      "min_height": null,
      "min_width": null,
      "object_fit": null,
      "object_position": null,
      "order": null,
      "overflow": null,
      "overflow_x": null,
      "overflow_y": null,
      "padding": null,
      "right": null,
      "top": null,
      "visibility": null,
      "width": null
     }
    },
    "40f4a38bef1d4057b5aeff44412f32b8": {
     "model_module": "@jupyter-widgets/controls",
     "model_name": "DescriptionStyleModel",
     "state": {
      "_model_module": "@jupyter-widgets/controls",
      "_model_module_version": "1.5.0",
      "_model_name": "DescriptionStyleModel",
      "_view_count": null,
      "_view_module": "@jupyter-widgets/base",
      "_view_module_version": "1.2.0",
      "_view_name": "StyleView",
      "description_width": ""
     }
    },
    "423e2413027b4e84ab76b2f3e31c2f93": {
     "model_module": "@jupyter-widgets/controls",
     "model_name": "HBoxModel",
     "state": {
      "_dom_classes": [],
      "_model_module": "@jupyter-widgets/controls",
      "_model_module_version": "1.5.0",
      "_model_name": "HBoxModel",
      "_view_count": null,
      "_view_module": "@jupyter-widgets/controls",
      "_view_module_version": "1.5.0",
      "_view_name": "HBoxView",
      "box_style": "",
      "children": [
       "IPY_MODEL_daf5cada6ca047dfbaf92dd698290a8a",
       "IPY_MODEL_91625328161b4b2d8f429c3d8027118e"
      ],
      "layout": "IPY_MODEL_91bdb179437645569fcef3878af3fda3"
     }
    },
    "49961abd367c43539e40e41463a226ca": {
     "model_module": "@jupyter-widgets/controls",
     "model_name": "ProgressStyleModel",
     "state": {
      "_model_module": "@jupyter-widgets/controls",
      "_model_module_version": "1.5.0",
      "_model_name": "ProgressStyleModel",
      "_view_count": null,
      "_view_module": "@jupyter-widgets/base",
      "_view_module_version": "1.2.0",
      "_view_name": "StyleView",
      "bar_color": null,
      "description_width": "initial"
     }
    },
    "4a69bf97084b41c09f546d68acc22a9d": {
     "model_module": "@jupyter-widgets/base",
     "model_name": "LayoutModel",
     "state": {
      "_model_module": "@jupyter-widgets/base",
      "_model_module_version": "1.2.0",
      "_model_name": "LayoutModel",
      "_view_count": null,
      "_view_module": "@jupyter-widgets/base",
      "_view_module_version": "1.2.0",
      "_view_name": "LayoutView",
      "align_content": null,
      "align_items": null,
      "align_self": null,
      "border": null,
      "bottom": null,
      "display": null,
      "flex": null,
      "flex_flow": null,
      "grid_area": null,
      "grid_auto_columns": null,
      "grid_auto_flow": null,
      "grid_auto_rows": null,
      "grid_column": null,
      "grid_gap": null,
      "grid_row": null,
      "grid_template_areas": null,
      "grid_template_columns": null,
      "grid_template_rows": null,
      "height": null,
      "justify_content": null,
      "justify_items": null,
      "left": null,
      "margin": null,
      "max_height": null,
      "max_width": null,
      "min_height": null,
      "min_width": null,
      "object_fit": null,
      "object_position": null,
      "order": null,
      "overflow": null,
      "overflow_x": null,
      "overflow_y": null,
      "padding": null,
      "right": null,
      "top": null,
      "visibility": null,
      "width": null
     }
    },
    "4ed504992b42419d86c802e081473cca": {
     "model_module": "@jupyter-widgets/base",
     "model_name": "LayoutModel",
     "state": {
      "_model_module": "@jupyter-widgets/base",
      "_model_module_version": "1.2.0",
      "_model_name": "LayoutModel",
      "_view_count": null,
      "_view_module": "@jupyter-widgets/base",
      "_view_module_version": "1.2.0",
      "_view_name": "LayoutView",
      "align_content": null,
      "align_items": null,
      "align_self": null,
      "border": null,
      "bottom": null,
      "display": null,
      "flex": null,
      "flex_flow": null,
      "grid_area": null,
      "grid_auto_columns": null,
      "grid_auto_flow": null,
      "grid_auto_rows": null,
      "grid_column": null,
      "grid_gap": null,
      "grid_row": null,
      "grid_template_areas": null,
      "grid_template_columns": null,
      "grid_template_rows": null,
      "height": null,
      "justify_content": null,
      "justify_items": null,
      "left": null,
      "margin": null,
      "max_height": null,
      "max_width": null,
      "min_height": null,
      "min_width": null,
      "object_fit": null,
      "object_position": null,
      "order": null,
      "overflow": null,
      "overflow_x": null,
      "overflow_y": null,
      "padding": null,
      "right": null,
      "top": null,
      "visibility": null,
      "width": null
     }
    },
    "5344e4b732674f4c984bf42426c02e68": {
     "model_module": "@jupyter-widgets/controls",
     "model_name": "DescriptionStyleModel",
     "state": {
      "_model_module": "@jupyter-widgets/controls",
      "_model_module_version": "1.5.0",
      "_model_name": "DescriptionStyleModel",
      "_view_count": null,
      "_view_module": "@jupyter-widgets/base",
      "_view_module_version": "1.2.0",
      "_view_name": "StyleView",
      "description_width": ""
     }
    },
    "5562dc81f4d94157aa9e84e79f531f73": {
     "model_module": "@jupyter-widgets/base",
     "model_name": "LayoutModel",
     "state": {
      "_model_module": "@jupyter-widgets/base",
      "_model_module_version": "1.2.0",
      "_model_name": "LayoutModel",
      "_view_count": null,
      "_view_module": "@jupyter-widgets/base",
      "_view_module_version": "1.2.0",
      "_view_name": "LayoutView",
      "align_content": null,
      "align_items": null,
      "align_self": null,
      "border": null,
      "bottom": null,
      "display": null,
      "flex": null,
      "flex_flow": null,
      "grid_area": null,
      "grid_auto_columns": null,
      "grid_auto_flow": null,
      "grid_auto_rows": null,
      "grid_column": null,
      "grid_gap": null,
      "grid_row": null,
      "grid_template_areas": null,
      "grid_template_columns": null,
      "grid_template_rows": null,
      "height": null,
      "justify_content": null,
      "justify_items": null,
      "left": null,
      "margin": null,
      "max_height": null,
      "max_width": null,
      "min_height": null,
      "min_width": null,
      "object_fit": null,
      "object_position": null,
      "order": null,
      "overflow": null,
      "overflow_x": null,
      "overflow_y": null,
      "padding": null,
      "right": null,
      "top": null,
      "visibility": null,
      "width": null
     }
    },
    "573a79c5305d41ddb922cedf98331eb3": {
     "model_module": "@jupyter-widgets/base",
     "model_name": "LayoutModel",
     "state": {
      "_model_module": "@jupyter-widgets/base",
      "_model_module_version": "1.2.0",
      "_model_name": "LayoutModel",
      "_view_count": null,
      "_view_module": "@jupyter-widgets/base",
      "_view_module_version": "1.2.0",
      "_view_name": "LayoutView",
      "align_content": null,
      "align_items": null,
      "align_self": null,
      "border": null,
      "bottom": null,
      "display": null,
      "flex": null,
      "flex_flow": null,
      "grid_area": null,
      "grid_auto_columns": null,
      "grid_auto_flow": null,
      "grid_auto_rows": null,
      "grid_column": null,
      "grid_gap": null,
      "grid_row": null,
      "grid_template_areas": null,
      "grid_template_columns": null,
      "grid_template_rows": null,
      "height": null,
      "justify_content": null,
      "justify_items": null,
      "left": null,
      "margin": null,
      "max_height": null,
      "max_width": null,
      "min_height": null,
      "min_width": null,
      "object_fit": null,
      "object_position": null,
      "order": null,
      "overflow": null,
      "overflow_x": null,
      "overflow_y": null,
      "padding": null,
      "right": null,
      "top": null,
      "visibility": null,
      "width": null
     }
    },
    "5ebda6549bf74350a5eb675fb498807b": {
     "model_module": "@jupyter-widgets/controls",
     "model_name": "ProgressStyleModel",
     "state": {
      "_model_module": "@jupyter-widgets/controls",
      "_model_module_version": "1.5.0",
      "_model_name": "ProgressStyleModel",
      "_view_count": null,
      "_view_module": "@jupyter-widgets/base",
      "_view_module_version": "1.2.0",
      "_view_name": "StyleView",
      "bar_color": null,
      "description_width": "initial"
     }
    },
    "61cfc0020d0f4cf08db61c36d5fccee0": {
     "model_module": "@jupyter-widgets/base",
     "model_name": "LayoutModel",
     "state": {
      "_model_module": "@jupyter-widgets/base",
      "_model_module_version": "1.2.0",
      "_model_name": "LayoutModel",
      "_view_count": null,
      "_view_module": "@jupyter-widgets/base",
      "_view_module_version": "1.2.0",
      "_view_name": "LayoutView",
      "align_content": null,
      "align_items": null,
      "align_self": null,
      "border": null,
      "bottom": null,
      "display": null,
      "flex": null,
      "flex_flow": null,
      "grid_area": null,
      "grid_auto_columns": null,
      "grid_auto_flow": null,
      "grid_auto_rows": null,
      "grid_column": null,
      "grid_gap": null,
      "grid_row": null,
      "grid_template_areas": null,
      "grid_template_columns": null,
      "grid_template_rows": null,
      "height": null,
      "justify_content": null,
      "justify_items": null,
      "left": null,
      "margin": null,
      "max_height": null,
      "max_width": null,
      "min_height": null,
      "min_width": null,
      "object_fit": null,
      "object_position": null,
      "order": null,
      "overflow": null,
      "overflow_x": null,
      "overflow_y": null,
      "padding": null,
      "right": null,
      "top": null,
      "visibility": null,
      "width": null
     }
    },
    "65e1db8e9f504933a20574f4336a5371": {
     "model_module": "@jupyter-widgets/base",
     "model_name": "LayoutModel",
     "state": {
      "_model_module": "@jupyter-widgets/base",
      "_model_module_version": "1.2.0",
      "_model_name": "LayoutModel",
      "_view_count": null,
      "_view_module": "@jupyter-widgets/base",
      "_view_module_version": "1.2.0",
      "_view_name": "LayoutView",
      "align_content": null,
      "align_items": null,
      "align_self": null,
      "border": null,
      "bottom": null,
      "display": null,
      "flex": null,
      "flex_flow": null,
      "grid_area": null,
      "grid_auto_columns": null,
      "grid_auto_flow": null,
      "grid_auto_rows": null,
      "grid_column": null,
      "grid_gap": null,
      "grid_row": null,
      "grid_template_areas": null,
      "grid_template_columns": null,
      "grid_template_rows": null,
      "height": null,
      "justify_content": null,
      "justify_items": null,
      "left": null,
      "margin": null,
      "max_height": null,
      "max_width": null,
      "min_height": null,
      "min_width": null,
      "object_fit": null,
      "object_position": null,
      "order": null,
      "overflow": null,
      "overflow_x": null,
      "overflow_y": null,
      "padding": null,
      "right": null,
      "top": null,
      "visibility": null,
      "width": null
     }
    },
    "687b8acafdca4e4c900161a668f19dd7": {
     "model_module": "@jupyter-widgets/controls",
     "model_name": "HBoxModel",
     "state": {
      "_dom_classes": [],
      "_model_module": "@jupyter-widgets/controls",
      "_model_module_version": "1.5.0",
      "_model_name": "HBoxModel",
      "_view_count": null,
      "_view_module": "@jupyter-widgets/controls",
      "_view_module_version": "1.5.0",
      "_view_name": "HBoxView",
      "box_style": "",
      "children": [
       "IPY_MODEL_089e2b49e36d43beb2f10eb10b863de2",
       "IPY_MODEL_c37764120ab746a2a845941e7924f7e2"
      ],
      "layout": "IPY_MODEL_2a88e821ae5e42438c98067984aed41e"
     }
    },
    "68afdf57497a4435b4d192322d96b9ec": {
     "model_module": "@jupyter-widgets/controls",
     "model_name": "DescriptionStyleModel",
     "state": {
      "_model_module": "@jupyter-widgets/controls",
      "_model_module_version": "1.5.0",
      "_model_name": "DescriptionStyleModel",
      "_view_count": null,
      "_view_module": "@jupyter-widgets/base",
      "_view_module_version": "1.2.0",
      "_view_name": "StyleView",
      "description_width": ""
     }
    },
    "794e1ec601ac44fd9b03385b753cc21a": {
     "model_module": "@jupyter-widgets/controls",
     "model_name": "ProgressStyleModel",
     "state": {
      "_model_module": "@jupyter-widgets/controls",
      "_model_module_version": "1.5.0",
      "_model_name": "ProgressStyleModel",
      "_view_count": null,
      "_view_module": "@jupyter-widgets/base",
      "_view_module_version": "1.2.0",
      "_view_name": "StyleView",
      "bar_color": null,
      "description_width": "initial"
     }
    },
    "79fd86c8400544608528821dbc7486b2": {
     "model_module": "@jupyter-widgets/controls",
     "model_name": "HBoxModel",
     "state": {
      "_dom_classes": [],
      "_model_module": "@jupyter-widgets/controls",
      "_model_module_version": "1.5.0",
      "_model_name": "HBoxModel",
      "_view_count": null,
      "_view_module": "@jupyter-widgets/controls",
      "_view_module_version": "1.5.0",
      "_view_name": "HBoxView",
      "box_style": "",
      "children": [
       "IPY_MODEL_955737af77c84d25ad734fcca0317e12",
       "IPY_MODEL_0b6bb6f0e35f43b694c0819357d3c70d"
      ],
      "layout": "IPY_MODEL_c60ce3f2695146bba54c6259041daf10"
     }
    },
    "866292bda52646f38921d3a5392cf18b": {
     "model_module": "@jupyter-widgets/controls",
     "model_name": "HBoxModel",
     "state": {
      "_dom_classes": [],
      "_model_module": "@jupyter-widgets/controls",
      "_model_module_version": "1.5.0",
      "_model_name": "HBoxModel",
      "_view_count": null,
      "_view_module": "@jupyter-widgets/controls",
      "_view_module_version": "1.5.0",
      "_view_name": "HBoxView",
      "box_style": "",
      "children": [
       "IPY_MODEL_d91d595c98c048288e357ff23bf3f31f",
       "IPY_MODEL_9ce61ac9fbda497b9cacee96df5bcffe"
      ],
      "layout": "IPY_MODEL_a21cfc802aaa4a089aebefb4aeabd160"
     }
    },
    "88b05e58679e471cb52a8f385a6a350c": {
     "model_module": "@jupyter-widgets/controls",
     "model_name": "DescriptionStyleModel",
     "state": {
      "_model_module": "@jupyter-widgets/controls",
      "_model_module_version": "1.5.0",
      "_model_name": "DescriptionStyleModel",
      "_view_count": null,
      "_view_module": "@jupyter-widgets/base",
      "_view_module_version": "1.2.0",
      "_view_name": "StyleView",
      "description_width": ""
     }
    },
    "8963cd61c47d43599b3fb25be966d88d": {
     "model_module": "@jupyter-widgets/base",
     "model_name": "LayoutModel",
     "state": {
      "_model_module": "@jupyter-widgets/base",
      "_model_module_version": "1.2.0",
      "_model_name": "LayoutModel",
      "_view_count": null,
      "_view_module": "@jupyter-widgets/base",
      "_view_module_version": "1.2.0",
      "_view_name": "LayoutView",
      "align_content": null,
      "align_items": null,
      "align_self": null,
      "border": null,
      "bottom": null,
      "display": null,
      "flex": null,
      "flex_flow": null,
      "grid_area": null,
      "grid_auto_columns": null,
      "grid_auto_flow": null,
      "grid_auto_rows": null,
      "grid_column": null,
      "grid_gap": null,
      "grid_row": null,
      "grid_template_areas": null,
      "grid_template_columns": null,
      "grid_template_rows": null,
      "height": null,
      "justify_content": null,
      "justify_items": null,
      "left": null,
      "margin": null,
      "max_height": null,
      "max_width": null,
      "min_height": null,
      "min_width": null,
      "object_fit": null,
      "object_position": null,
      "order": null,
      "overflow": null,
      "overflow_x": null,
      "overflow_y": null,
      "padding": null,
      "right": null,
      "top": null,
      "visibility": null,
      "width": null
     }
    },
    "89d2dba6d9694a2a987f273fe1db007c": {
     "model_module": "@jupyter-widgets/base",
     "model_name": "LayoutModel",
     "state": {
      "_model_module": "@jupyter-widgets/base",
      "_model_module_version": "1.2.0",
      "_model_name": "LayoutModel",
      "_view_count": null,
      "_view_module": "@jupyter-widgets/base",
      "_view_module_version": "1.2.0",
      "_view_name": "LayoutView",
      "align_content": null,
      "align_items": null,
      "align_self": null,
      "border": null,
      "bottom": null,
      "display": null,
      "flex": null,
      "flex_flow": null,
      "grid_area": null,
      "grid_auto_columns": null,
      "grid_auto_flow": null,
      "grid_auto_rows": null,
      "grid_column": null,
      "grid_gap": null,
      "grid_row": null,
      "grid_template_areas": null,
      "grid_template_columns": null,
      "grid_template_rows": null,
      "height": null,
      "justify_content": null,
      "justify_items": null,
      "left": null,
      "margin": null,
      "max_height": null,
      "max_width": null,
      "min_height": null,
      "min_width": null,
      "object_fit": null,
      "object_position": null,
      "order": null,
      "overflow": null,
      "overflow_x": null,
      "overflow_y": null,
      "padding": null,
      "right": null,
      "top": null,
      "visibility": null,
      "width": null
     }
    },
    "89e880e5c8364fde87b1454cbad25e68": {
     "model_module": "@jupyter-widgets/base",
     "model_name": "LayoutModel",
     "state": {
      "_model_module": "@jupyter-widgets/base",
      "_model_module_version": "1.2.0",
      "_model_name": "LayoutModel",
      "_view_count": null,
      "_view_module": "@jupyter-widgets/base",
      "_view_module_version": "1.2.0",
      "_view_name": "LayoutView",
      "align_content": null,
      "align_items": null,
      "align_self": null,
      "border": null,
      "bottom": null,
      "display": null,
      "flex": null,
      "flex_flow": null,
      "grid_area": null,
      "grid_auto_columns": null,
      "grid_auto_flow": null,
      "grid_auto_rows": null,
      "grid_column": null,
      "grid_gap": null,
      "grid_row": null,
      "grid_template_areas": null,
      "grid_template_columns": null,
      "grid_template_rows": null,
      "height": null,
      "justify_content": null,
      "justify_items": null,
      "left": null,
      "margin": null,
      "max_height": null,
      "max_width": null,
      "min_height": null,
      "min_width": null,
      "object_fit": null,
      "object_position": null,
      "order": null,
      "overflow": null,
      "overflow_x": null,
      "overflow_y": null,
      "padding": null,
      "right": null,
      "top": null,
      "visibility": null,
      "width": null
     }
    },
    "8cf3c5c628e645ada877400a09c79427": {
     "model_module": "@jupyter-widgets/base",
     "model_name": "LayoutModel",
     "state": {
      "_model_module": "@jupyter-widgets/base",
      "_model_module_version": "1.2.0",
      "_model_name": "LayoutModel",
      "_view_count": null,
      "_view_module": "@jupyter-widgets/base",
      "_view_module_version": "1.2.0",
      "_view_name": "LayoutView",
      "align_content": null,
      "align_items": null,
      "align_self": null,
      "border": null,
      "bottom": null,
      "display": null,
      "flex": null,
      "flex_flow": null,
      "grid_area": null,
      "grid_auto_columns": null,
      "grid_auto_flow": null,
      "grid_auto_rows": null,
      "grid_column": null,
      "grid_gap": null,
      "grid_row": null,
      "grid_template_areas": null,
      "grid_template_columns": null,
      "grid_template_rows": null,
      "height": null,
      "justify_content": null,
      "justify_items": null,
      "left": null,
      "margin": null,
      "max_height": null,
      "max_width": null,
      "min_height": null,
      "min_width": null,
      "object_fit": null,
      "object_position": null,
      "order": null,
      "overflow": null,
      "overflow_x": null,
      "overflow_y": null,
      "padding": null,
      "right": null,
      "top": null,
      "visibility": null,
      "width": null
     }
    },
    "91625328161b4b2d8f429c3d8027118e": {
     "model_module": "@jupyter-widgets/controls",
     "model_name": "HTMLModel",
     "state": {
      "_dom_classes": [],
      "_model_module": "@jupyter-widgets/controls",
      "_model_module_version": "1.5.0",
      "_model_name": "HTMLModel",
      "_view_count": null,
      "_view_module": "@jupyter-widgets/controls",
      "_view_module_version": "1.5.0",
      "_view_name": "HTMLView",
      "description": "",
      "description_tooltip": null,
      "layout": "IPY_MODEL_4a69bf97084b41c09f546d68acc22a9d",
      "placeholder": "​",
      "style": "IPY_MODEL_e45fb90ccb4447908244d21488fdf075",
      "value": " 101/101 [00:00&lt;00:00, 173.85it/s]"
     }
    },
    "91bdb179437645569fcef3878af3fda3": {
     "model_module": "@jupyter-widgets/base",
     "model_name": "LayoutModel",
     "state": {
      "_model_module": "@jupyter-widgets/base",
      "_model_module_version": "1.2.0",
      "_model_name": "LayoutModel",
      "_view_count": null,
      "_view_module": "@jupyter-widgets/base",
      "_view_module_version": "1.2.0",
      "_view_name": "LayoutView",
      "align_content": null,
      "align_items": null,
      "align_self": null,
      "border": null,
      "bottom": null,
      "display": null,
      "flex": null,
      "flex_flow": null,
      "grid_area": null,
      "grid_auto_columns": null,
      "grid_auto_flow": null,
      "grid_auto_rows": null,
      "grid_column": null,
      "grid_gap": null,
      "grid_row": null,
      "grid_template_areas": null,
      "grid_template_columns": null,
      "grid_template_rows": null,
      "height": null,
      "justify_content": null,
      "justify_items": null,
      "left": null,
      "margin": null,
      "max_height": null,
      "max_width": null,
      "min_height": null,
      "min_width": null,
      "object_fit": null,
      "object_position": null,
      "order": null,
      "overflow": null,
      "overflow_x": null,
      "overflow_y": null,
      "padding": null,
      "right": null,
      "top": null,
      "visibility": null,
      "width": null
     }
    },
    "9533e98626344d7b9230934364288246": {
     "model_module": "@jupyter-widgets/base",
     "model_name": "LayoutModel",
     "state": {
      "_model_module": "@jupyter-widgets/base",
      "_model_module_version": "1.2.0",
      "_model_name": "LayoutModel",
      "_view_count": null,
      "_view_module": "@jupyter-widgets/base",
      "_view_module_version": "1.2.0",
      "_view_name": "LayoutView",
      "align_content": null,
      "align_items": null,
      "align_self": null,
      "border": null,
      "bottom": null,
      "display": null,
      "flex": null,
      "flex_flow": null,
      "grid_area": null,
      "grid_auto_columns": null,
      "grid_auto_flow": null,
      "grid_auto_rows": null,
      "grid_column": null,
      "grid_gap": null,
      "grid_row": null,
      "grid_template_areas": null,
      "grid_template_columns": null,
      "grid_template_rows": null,
      "height": null,
      "justify_content": null,
      "justify_items": null,
      "left": null,
      "margin": null,
      "max_height": null,
      "max_width": null,
      "min_height": null,
      "min_width": null,
      "object_fit": null,
      "object_position": null,
      "order": null,
      "overflow": null,
      "overflow_x": null,
      "overflow_y": null,
      "padding": null,
      "right": null,
      "top": null,
      "visibility": null,
      "width": null
     }
    },
    "955737af77c84d25ad734fcca0317e12": {
     "model_module": "@jupyter-widgets/controls",
     "model_name": "FloatProgressModel",
     "state": {
      "_dom_classes": [],
      "_model_module": "@jupyter-widgets/controls",
      "_model_module_version": "1.5.0",
      "_model_name": "FloatProgressModel",
      "_view_count": null,
      "_view_module": "@jupyter-widgets/controls",
      "_view_module_version": "1.5.0",
      "_view_name": "ProgressView",
      "bar_style": "success",
      "description": "recognition...: 100%",
      "description_tooltip": null,
      "layout": "IPY_MODEL_dbcb8ee026164f6e892ffc31c5a118c0",
      "max": 101,
      "min": 0,
      "orientation": "horizontal",
      "style": "IPY_MODEL_218de6aba952436db91749aa69173f26",
      "value": 101
     }
    },
    "95ac71e43c534aa3a9b4d6693f4ac95b": {
     "model_module": "@jupyter-widgets/controls",
     "model_name": "HBoxModel",
     "state": {
      "_dom_classes": [],
      "_model_module": "@jupyter-widgets/controls",
      "_model_module_version": "1.5.0",
      "_model_name": "HBoxModel",
      "_view_count": null,
      "_view_module": "@jupyter-widgets/controls",
      "_view_module_version": "1.5.0",
      "_view_name": "HBoxView",
      "box_style": "",
      "children": [
       "IPY_MODEL_0f904594cef6491f91e8669eed1ff597",
       "IPY_MODEL_2980b28fb8f64d0bb285cdaefd56d9fc"
      ],
      "layout": "IPY_MODEL_173c3a2ee2b942f6bf05dc607514a817"
     }
    },
    "9ce61ac9fbda497b9cacee96df5bcffe": {
     "model_module": "@jupyter-widgets/controls",
     "model_name": "HTMLModel",
     "state": {
      "_dom_classes": [],
      "_model_module": "@jupyter-widgets/controls",
      "_model_module_version": "1.5.0",
      "_model_name": "HTMLModel",
      "_view_count": null,
      "_view_module": "@jupyter-widgets/controls",
      "_view_module_version": "1.5.0",
      "_view_name": "HTMLView",
      "description": "",
      "description_tooltip": null,
      "layout": "IPY_MODEL_e65f86ee133341ae858877e9cea17ec2",
      "placeholder": "​",
      "style": "IPY_MODEL_0ef8bdeed4174694bbf38dc91b295137",
      "value": " 86/86 [00:00&lt;00:00, 104.16it/s]"
     }
    },
    "9d34152311474129a3ac055dcf47325c": {
     "model_module": "@jupyter-widgets/controls",
     "model_name": "HTMLModel",
     "state": {
      "_dom_classes": [],
      "_model_module": "@jupyter-widgets/controls",
      "_model_module_version": "1.5.0",
      "_model_name": "HTMLModel",
      "_view_count": null,
      "_view_module": "@jupyter-widgets/controls",
      "_view_module_version": "1.5.0",
      "_view_name": "HTMLView",
      "description": "",
      "description_tooltip": null,
      "layout": "IPY_MODEL_573a79c5305d41ddb922cedf98331eb3",
      "placeholder": "​",
      "style": "IPY_MODEL_40f4a38bef1d4057b5aeff44412f32b8",
      "value": " 101/101 [00:01&lt;00:00, 84.28it/s]"
     }
    },
    "a21cfc802aaa4a089aebefb4aeabd160": {
     "model_module": "@jupyter-widgets/base",
     "model_name": "LayoutModel",
     "state": {
      "_model_module": "@jupyter-widgets/base",
      "_model_module_version": "1.2.0",
      "_model_name": "LayoutModel",
      "_view_count": null,
      "_view_module": "@jupyter-widgets/base",
      "_view_module_version": "1.2.0",
      "_view_name": "LayoutView",
      "align_content": null,
      "align_items": null,
      "align_self": null,
      "border": null,
      "bottom": null,
      "display": null,
      "flex": null,
      "flex_flow": null,
      "grid_area": null,
      "grid_auto_columns": null,
      "grid_auto_flow": null,
      "grid_auto_rows": null,
      "grid_column": null,
      "grid_gap": null,
      "grid_row": null,
      "grid_template_areas": null,
      "grid_template_columns": null,
      "grid_template_rows": null,
      "height": null,
      "justify_content": null,
      "justify_items": null,
      "left": null,
      "margin": null,
      "max_height": null,
      "max_width": null,
      "min_height": null,
      "min_width": null,
      "object_fit": null,
      "object_position": null,
      "order": null,
      "overflow": null,
      "overflow_x": null,
      "overflow_y": null,
      "padding": null,
      "right": null,
      "top": null,
      "visibility": null,
      "width": null
     }
    },
    "a5a967f3f5dc499e92947406cdf528e9": {
     "model_module": "@jupyter-widgets/base",
     "model_name": "LayoutModel",
     "state": {
      "_model_module": "@jupyter-widgets/base",
      "_model_module_version": "1.2.0",
      "_model_name": "LayoutModel",
      "_view_count": null,
      "_view_module": "@jupyter-widgets/base",
      "_view_module_version": "1.2.0",
      "_view_name": "LayoutView",
      "align_content": null,
      "align_items": null,
      "align_self": null,
      "border": null,
      "bottom": null,
      "display": null,
      "flex": null,
      "flex_flow": null,
      "grid_area": null,
      "grid_auto_columns": null,
      "grid_auto_flow": null,
      "grid_auto_rows": null,
      "grid_column": null,
      "grid_gap": null,
      "grid_row": null,
      "grid_template_areas": null,
      "grid_template_columns": null,
      "grid_template_rows": null,
      "height": null,
      "justify_content": null,
      "justify_items": null,
      "left": null,
      "margin": null,
      "max_height": null,
      "max_width": null,
      "min_height": null,
      "min_width": null,
      "object_fit": null,
      "object_position": null,
      "order": null,
      "overflow": null,
      "overflow_x": null,
      "overflow_y": null,
      "padding": null,
      "right": null,
      "top": null,
      "visibility": null,
      "width": null
     }
    },
    "a9dd273543c2421d87c9fd359d956f2c": {
     "model_module": "@jupyter-widgets/controls",
     "model_name": "DescriptionStyleModel",
     "state": {
      "_model_module": "@jupyter-widgets/controls",
      "_model_module_version": "1.5.0",
      "_model_name": "DescriptionStyleModel",
      "_view_count": null,
      "_view_module": "@jupyter-widgets/base",
      "_view_module_version": "1.2.0",
      "_view_name": "StyleView",
      "description_width": ""
     }
    },
    "ac3b3a632c134d0f855a908d2ffe3fc5": {
     "model_module": "@jupyter-widgets/controls",
     "model_name": "ProgressStyleModel",
     "state": {
      "_model_module": "@jupyter-widgets/controls",
      "_model_module_version": "1.5.0",
      "_model_name": "ProgressStyleModel",
      "_view_count": null,
      "_view_module": "@jupyter-widgets/base",
      "_view_module_version": "1.2.0",
      "_view_name": "StyleView",
      "bar_color": null,
      "description_width": "initial"
     }
    },
    "b6254035770f49e6980aa988dc9fd3b2": {
     "model_module": "@jupyter-widgets/controls",
     "model_name": "ProgressStyleModel",
     "state": {
      "_model_module": "@jupyter-widgets/controls",
      "_model_module_version": "1.5.0",
      "_model_name": "ProgressStyleModel",
      "_view_count": null,
      "_view_module": "@jupyter-widgets/base",
      "_view_module_version": "1.2.0",
      "_view_name": "StyleView",
      "bar_color": null,
      "description_width": "initial"
     }
    },
    "badfdef8253244b4bc86c10714521aa4": {
     "model_module": "@jupyter-widgets/base",
     "model_name": "LayoutModel",
     "state": {
      "_model_module": "@jupyter-widgets/base",
      "_model_module_version": "1.2.0",
      "_model_name": "LayoutModel",
      "_view_count": null,
      "_view_module": "@jupyter-widgets/base",
      "_view_module_version": "1.2.0",
      "_view_name": "LayoutView",
      "align_content": null,
      "align_items": null,
      "align_self": null,
      "border": null,
      "bottom": null,
      "display": null,
      "flex": null,
      "flex_flow": null,
      "grid_area": null,
      "grid_auto_columns": null,
      "grid_auto_flow": null,
      "grid_auto_rows": null,
      "grid_column": null,
      "grid_gap": null,
      "grid_row": null,
      "grid_template_areas": null,
      "grid_template_columns": null,
      "grid_template_rows": null,
      "height": null,
      "justify_content": null,
      "justify_items": null,
      "left": null,
      "margin": null,
      "max_height": null,
      "max_width": null,
      "min_height": null,
      "min_width": null,
      "object_fit": null,
      "object_position": null,
      "order": null,
      "overflow": null,
      "overflow_x": null,
      "overflow_y": null,
      "padding": null,
      "right": null,
      "top": null,
      "visibility": null,
      "width": null
     }
    },
    "bb7d404b76504f90b84a85c202e3ca20": {
     "model_module": "@jupyter-widgets/controls",
     "model_name": "HBoxModel",
     "state": {
      "_dom_classes": [],
      "_model_module": "@jupyter-widgets/controls",
      "_model_module_version": "1.5.0",
      "_model_name": "HBoxModel",
      "_view_count": null,
      "_view_module": "@jupyter-widgets/controls",
      "_view_module_version": "1.5.0",
      "_view_name": "HBoxView",
      "box_style": "",
      "children": [
       "IPY_MODEL_f23dd213aa694273b29c11a528985e92",
       "IPY_MODEL_319b98fe815942d5b3978a85d3b394c9"
      ],
      "layout": "IPY_MODEL_cd23fc6a791f49d18b760730f362e916"
     }
    },
    "bbf748981d9f446dad2364859477866b": {
     "model_module": "@jupyter-widgets/controls",
     "model_name": "HTMLModel",
     "state": {
      "_dom_classes": [],
      "_model_module": "@jupyter-widgets/controls",
      "_model_module_version": "1.5.0",
      "_model_name": "HTMLModel",
      "_view_count": null,
      "_view_module": "@jupyter-widgets/controls",
      "_view_module_version": "1.5.0",
      "_view_name": "HTMLView",
      "description": "",
      "description_tooltip": null,
      "layout": "IPY_MODEL_156b2fb5a44041c6913f91462b947876",
      "placeholder": "​",
      "style": "IPY_MODEL_2e21fa9e6ff14670b6ddb3f732a53114",
      "value": " 101/101 [00:00&lt;00:00, 223.07it/s]"
     }
    },
    "c19a9ec771b34ab3b05cfebe4d7861d5": {
     "model_module": "@jupyter-widgets/controls",
     "model_name": "FloatProgressModel",
     "state": {
      "_dom_classes": [],
      "_model_module": "@jupyter-widgets/controls",
      "_model_module_version": "1.5.0",
      "_model_name": "FloatProgressModel",
      "_view_count": null,
      "_view_module": "@jupyter-widgets/controls",
      "_view_module_version": "1.5.0",
      "_view_name": "ProgressView",
      "bar_style": "success",
      "description": "recognition...: 100%",
      "description_tooltip": null,
      "layout": "IPY_MODEL_badfdef8253244b4bc86c10714521aa4",
      "max": 101,
      "min": 0,
      "orientation": "horizontal",
      "style": "IPY_MODEL_eb8b3b97e66b4efebd5aafe6f1435f53",
      "value": 101
     }
    },
    "c37764120ab746a2a845941e7924f7e2": {
     "model_module": "@jupyter-widgets/controls",
     "model_name": "HTMLModel",
     "state": {
      "_dom_classes": [],
      "_model_module": "@jupyter-widgets/controls",
      "_model_module_version": "1.5.0",
      "_model_name": "HTMLModel",
      "_view_count": null,
      "_view_module": "@jupyter-widgets/controls",
      "_view_module_version": "1.5.0",
      "_view_name": "HTMLView",
      "description": "",
      "description_tooltip": null,
      "layout": "IPY_MODEL_3d6003fd13f14278b65ed1f48a48f239",
      "placeholder": "​",
      "style": "IPY_MODEL_88b05e58679e471cb52a8f385a6a350c",
      "value": " 101/101 [05:04&lt;00:00,  3.02s/it]"
     }
    },
    "c60ce3f2695146bba54c6259041daf10": {
     "model_module": "@jupyter-widgets/base",
     "model_name": "LayoutModel",
     "state": {
      "_model_module": "@jupyter-widgets/base",
      "_model_module_version": "1.2.0",
      "_model_name": "LayoutModel",
      "_view_count": null,
      "_view_module": "@jupyter-widgets/base",
      "_view_module_version": "1.2.0",
      "_view_name": "LayoutView",
      "align_content": null,
      "align_items": null,
      "align_self": null,
      "border": null,
      "bottom": null,
      "display": null,
      "flex": null,
      "flex_flow": null,
      "grid_area": null,
      "grid_auto_columns": null,
      "grid_auto_flow": null,
      "grid_auto_rows": null,
      "grid_column": null,
      "grid_gap": null,
      "grid_row": null,
      "grid_template_areas": null,
      "grid_template_columns": null,
      "grid_template_rows": null,
      "height": null,
      "justify_content": null,
      "justify_items": null,
      "left": null,
      "margin": null,
      "max_height": null,
      "max_width": null,
      "min_height": null,
      "min_width": null,
      "object_fit": null,
      "object_position": null,
      "order": null,
      "overflow": null,
      "overflow_x": null,
      "overflow_y": null,
      "padding": null,
      "right": null,
      "top": null,
      "visibility": null,
      "width": null
     }
    },
    "c9a1a4c3fefa4dcbb152cf8ababfa502": {
     "model_module": "@jupyter-widgets/base",
     "model_name": "LayoutModel",
     "state": {
      "_model_module": "@jupyter-widgets/base",
      "_model_module_version": "1.2.0",
      "_model_name": "LayoutModel",
      "_view_count": null,
      "_view_module": "@jupyter-widgets/base",
      "_view_module_version": "1.2.0",
      "_view_name": "LayoutView",
      "align_content": null,
      "align_items": null,
      "align_self": null,
      "border": null,
      "bottom": null,
      "display": null,
      "flex": null,
      "flex_flow": null,
      "grid_area": null,
      "grid_auto_columns": null,
      "grid_auto_flow": null,
      "grid_auto_rows": null,
      "grid_column": null,
      "grid_gap": null,
      "grid_row": null,
      "grid_template_areas": null,
      "grid_template_columns": null,
      "grid_template_rows": null,
      "height": null,
      "justify_content": null,
      "justify_items": null,
      "left": null,
      "margin": null,
      "max_height": null,
      "max_width": null,
      "min_height": null,
      "min_width": null,
      "object_fit": null,
      "object_position": null,
      "order": null,
      "overflow": null,
      "overflow_x": null,
      "overflow_y": null,
      "padding": null,
      "right": null,
      "top": null,
      "visibility": null,
      "width": null
     }
    },
    "cd23fc6a791f49d18b760730f362e916": {
     "model_module": "@jupyter-widgets/base",
     "model_name": "LayoutModel",
     "state": {
      "_model_module": "@jupyter-widgets/base",
      "_model_module_version": "1.2.0",
      "_model_name": "LayoutModel",
      "_view_count": null,
      "_view_module": "@jupyter-widgets/base",
      "_view_module_version": "1.2.0",
      "_view_name": "LayoutView",
      "align_content": null,
      "align_items": null,
      "align_self": null,
      "border": null,
      "bottom": null,
      "display": null,
      "flex": null,
      "flex_flow": null,
      "grid_area": null,
      "grid_auto_columns": null,
      "grid_auto_flow": null,
      "grid_auto_rows": null,
      "grid_column": null,
      "grid_gap": null,
      "grid_row": null,
      "grid_template_areas": null,
      "grid_template_columns": null,
      "grid_template_rows": null,
      "height": null,
      "justify_content": null,
      "justify_items": null,
      "left": null,
      "margin": null,
      "max_height": null,
      "max_width": null,
      "min_height": null,
      "min_width": null,
      "object_fit": null,
      "object_position": null,
      "order": null,
      "overflow": null,
      "overflow_x": null,
      "overflow_y": null,
      "padding": null,
      "right": null,
      "top": null,
      "visibility": null,
      "width": null
     }
    },
    "ce737db5c702448dbca5aff5261ea7a1": {
     "model_module": "@jupyter-widgets/base",
     "model_name": "LayoutModel",
     "state": {
      "_model_module": "@jupyter-widgets/base",
      "_model_module_version": "1.2.0",
      "_model_name": "LayoutModel",
      "_view_count": null,
      "_view_module": "@jupyter-widgets/base",
      "_view_module_version": "1.2.0",
      "_view_name": "LayoutView",
      "align_content": null,
      "align_items": null,
      "align_self": null,
      "border": null,
      "bottom": null,
      "display": null,
      "flex": null,
      "flex_flow": null,
      "grid_area": null,
      "grid_auto_columns": null,
      "grid_auto_flow": null,
      "grid_auto_rows": null,
      "grid_column": null,
      "grid_gap": null,
      "grid_row": null,
      "grid_template_areas": null,
      "grid_template_columns": null,
      "grid_template_rows": null,
      "height": null,
      "justify_content": null,
      "justify_items": null,
      "left": null,
      "margin": null,
      "max_height": null,
      "max_width": null,
      "min_height": null,
      "min_width": null,
      "object_fit": null,
      "object_position": null,
      "order": null,
      "overflow": null,
      "overflow_x": null,
      "overflow_y": null,
      "padding": null,
      "right": null,
      "top": null,
      "visibility": null,
      "width": null
     }
    },
    "d6452f51a129405392b49346e29df4d4": {
     "model_module": "@jupyter-widgets/controls",
     "model_name": "DescriptionStyleModel",
     "state": {
      "_model_module": "@jupyter-widgets/controls",
      "_model_module_version": "1.5.0",
      "_model_name": "DescriptionStyleModel",
      "_view_count": null,
      "_view_module": "@jupyter-widgets/base",
      "_view_module_version": "1.2.0",
      "_view_name": "StyleView",
      "description_width": ""
     }
    },
    "d70750552b45488f8a52608ed2417953": {
     "model_module": "@jupyter-widgets/controls",
     "model_name": "FloatProgressModel",
     "state": {
      "_dom_classes": [],
      "_model_module": "@jupyter-widgets/controls",
      "_model_module_version": "1.5.0",
      "_model_name": "FloatProgressModel",
      "_view_count": null,
      "_view_module": "@jupyter-widgets/controls",
      "_view_module_version": "1.5.0",
      "_view_name": "ProgressView",
      "bar_style": "success",
      "description": "recognition...: 100%",
      "description_tooltip": null,
      "layout": "IPY_MODEL_89e880e5c8364fde87b1454cbad25e68",
      "max": 101,
      "min": 0,
      "orientation": "horizontal",
      "style": "IPY_MODEL_49961abd367c43539e40e41463a226ca",
      "value": 101
     }
    },
    "d91d595c98c048288e357ff23bf3f31f": {
     "model_module": "@jupyter-widgets/controls",
     "model_name": "FloatProgressModel",
     "state": {
      "_dom_classes": [],
      "_model_module": "@jupyter-widgets/controls",
      "_model_module_version": "1.5.0",
      "_model_name": "FloatProgressModel",
      "_view_count": null,
      "_view_module": "@jupyter-widgets/controls",
      "_view_module_version": "1.5.0",
      "_view_name": "ProgressView",
      "bar_style": "success",
      "description": "recognition...: 100%",
      "description_tooltip": null,
      "layout": "IPY_MODEL_f0a072a2787248b4b6a81dc0f3ed9ac0",
      "max": 86,
      "min": 0,
      "orientation": "horizontal",
      "style": "IPY_MODEL_794e1ec601ac44fd9b03385b753cc21a",
      "value": 86
     }
    },
    "daf5cada6ca047dfbaf92dd698290a8a": {
     "model_module": "@jupyter-widgets/controls",
     "model_name": "FloatProgressModel",
     "state": {
      "_dom_classes": [],
      "_model_module": "@jupyter-widgets/controls",
      "_model_module_version": "1.5.0",
      "_model_name": "FloatProgressModel",
      "_view_count": null,
      "_view_module": "@jupyter-widgets/controls",
      "_view_module_version": "1.5.0",
      "_view_name": "ProgressView",
      "bar_style": "success",
      "description": "recognition...: 100%",
      "description_tooltip": null,
      "layout": "IPY_MODEL_65e1db8e9f504933a20574f4336a5371",
      "max": 101,
      "min": 0,
      "orientation": "horizontal",
      "style": "IPY_MODEL_e600769622704f25a175e24e6cee3654",
      "value": 101
     }
    },
    "dbcb8ee026164f6e892ffc31c5a118c0": {
     "model_module": "@jupyter-widgets/base",
     "model_name": "LayoutModel",
     "state": {
      "_model_module": "@jupyter-widgets/base",
      "_model_module_version": "1.2.0",
      "_model_name": "LayoutModel",
      "_view_count": null,
      "_view_module": "@jupyter-widgets/base",
      "_view_module_version": "1.2.0",
      "_view_name": "LayoutView",
      "align_content": null,
      "align_items": null,
      "align_self": null,
      "border": null,
      "bottom": null,
      "display": null,
      "flex": null,
      "flex_flow": null,
      "grid_area": null,
      "grid_auto_columns": null,
      "grid_auto_flow": null,
      "grid_auto_rows": null,
      "grid_column": null,
      "grid_gap": null,
      "grid_row": null,
      "grid_template_areas": null,
      "grid_template_columns": null,
      "grid_template_rows": null,
      "height": null,
      "justify_content": null,
      "justify_items": null,
      "left": null,
      "margin": null,
      "max_height": null,
      "max_width": null,
      "min_height": null,
      "min_width": null,
      "object_fit": null,
      "object_position": null,
      "order": null,
      "overflow": null,
      "overflow_x": null,
      "overflow_y": null,
      "padding": null,
      "right": null,
      "top": null,
      "visibility": null,
      "width": null
     }
    },
    "ddef1f4eabce41cc8cd487911a147dc1": {
     "model_module": "@jupyter-widgets/base",
     "model_name": "LayoutModel",
     "state": {
      "_model_module": "@jupyter-widgets/base",
      "_model_module_version": "1.2.0",
      "_model_name": "LayoutModel",
      "_view_count": null,
      "_view_module": "@jupyter-widgets/base",
      "_view_module_version": "1.2.0",
      "_view_name": "LayoutView",
      "align_content": null,
      "align_items": null,
      "align_self": null,
      "border": null,
      "bottom": null,
      "display": null,
      "flex": null,
      "flex_flow": null,
      "grid_area": null,
      "grid_auto_columns": null,
      "grid_auto_flow": null,
      "grid_auto_rows": null,
      "grid_column": null,
      "grid_gap": null,
      "grid_row": null,
      "grid_template_areas": null,
      "grid_template_columns": null,
      "grid_template_rows": null,
      "height": null,
      "justify_content": null,
      "justify_items": null,
      "left": null,
      "margin": null,
      "max_height": null,
      "max_width": null,
      "min_height": null,
      "min_width": null,
      "object_fit": null,
      "object_position": null,
      "order": null,
      "overflow": null,
      "overflow_x": null,
      "overflow_y": null,
      "padding": null,
      "right": null,
      "top": null,
      "visibility": null,
      "width": null
     }
    },
    "e45fb90ccb4447908244d21488fdf075": {
     "model_module": "@jupyter-widgets/controls",
     "model_name": "DescriptionStyleModel",
     "state": {
      "_model_module": "@jupyter-widgets/controls",
      "_model_module_version": "1.5.0",
      "_model_name": "DescriptionStyleModel",
      "_view_count": null,
      "_view_module": "@jupyter-widgets/base",
      "_view_module_version": "1.2.0",
      "_view_name": "StyleView",
      "description_width": ""
     }
    },
    "e600769622704f25a175e24e6cee3654": {
     "model_module": "@jupyter-widgets/controls",
     "model_name": "ProgressStyleModel",
     "state": {
      "_model_module": "@jupyter-widgets/controls",
      "_model_module_version": "1.5.0",
      "_model_name": "ProgressStyleModel",
      "_view_count": null,
      "_view_module": "@jupyter-widgets/base",
      "_view_module_version": "1.2.0",
      "_view_name": "StyleView",
      "bar_color": null,
      "description_width": "initial"
     }
    },
    "e65f86ee133341ae858877e9cea17ec2": {
     "model_module": "@jupyter-widgets/base",
     "model_name": "LayoutModel",
     "state": {
      "_model_module": "@jupyter-widgets/base",
      "_model_module_version": "1.2.0",
      "_model_name": "LayoutModel",
      "_view_count": null,
      "_view_module": "@jupyter-widgets/base",
      "_view_module_version": "1.2.0",
      "_view_name": "LayoutView",
      "align_content": null,
      "align_items": null,
      "align_self": null,
      "border": null,
      "bottom": null,
      "display": null,
      "flex": null,
      "flex_flow": null,
      "grid_area": null,
      "grid_auto_columns": null,
      "grid_auto_flow": null,
      "grid_auto_rows": null,
      "grid_column": null,
      "grid_gap": null,
      "grid_row": null,
      "grid_template_areas": null,
      "grid_template_columns": null,
      "grid_template_rows": null,
      "height": null,
      "justify_content": null,
      "justify_items": null,
      "left": null,
      "margin": null,
      "max_height": null,
      "max_width": null,
      "min_height": null,
      "min_width": null,
      "object_fit": null,
      "object_position": null,
      "order": null,
      "overflow": null,
      "overflow_x": null,
      "overflow_y": null,
      "padding": null,
      "right": null,
      "top": null,
      "visibility": null,
      "width": null
     }
    },
    "eb2d6cc4debe4713a91e3732156a0eac": {
     "model_module": "@jupyter-widgets/controls",
     "model_name": "HBoxModel",
     "state": {
      "_dom_classes": [],
      "_model_module": "@jupyter-widgets/controls",
      "_model_module_version": "1.5.0",
      "_model_name": "HBoxModel",
      "_view_count": null,
      "_view_module": "@jupyter-widgets/controls",
      "_view_module_version": "1.5.0",
      "_view_name": "HBoxView",
      "box_style": "",
      "children": [
       "IPY_MODEL_c19a9ec771b34ab3b05cfebe4d7861d5",
       "IPY_MODEL_06963a9c5d884bc5b60e8f9f0506ec30"
      ],
      "layout": "IPY_MODEL_61cfc0020d0f4cf08db61c36d5fccee0"
     }
    },
    "eb8b3b97e66b4efebd5aafe6f1435f53": {
     "model_module": "@jupyter-widgets/controls",
     "model_name": "ProgressStyleModel",
     "state": {
      "_model_module": "@jupyter-widgets/controls",
      "_model_module_version": "1.5.0",
      "_model_name": "ProgressStyleModel",
      "_view_count": null,
      "_view_module": "@jupyter-widgets/base",
      "_view_module_version": "1.2.0",
      "_view_name": "StyleView",
      "bar_color": null,
      "description_width": "initial"
     }
    },
    "eb8d0293b8b94cd8935681e2746273af": {
     "model_module": "@jupyter-widgets/controls",
     "model_name": "DescriptionStyleModel",
     "state": {
      "_model_module": "@jupyter-widgets/controls",
      "_model_module_version": "1.5.0",
      "_model_name": "DescriptionStyleModel",
      "_view_count": null,
      "_view_module": "@jupyter-widgets/base",
      "_view_module_version": "1.2.0",
      "_view_name": "StyleView",
      "description_width": ""
     }
    },
    "f0a072a2787248b4b6a81dc0f3ed9ac0": {
     "model_module": "@jupyter-widgets/base",
     "model_name": "LayoutModel",
     "state": {
      "_model_module": "@jupyter-widgets/base",
      "_model_module_version": "1.2.0",
      "_model_name": "LayoutModel",
      "_view_count": null,
      "_view_module": "@jupyter-widgets/base",
      "_view_module_version": "1.2.0",
      "_view_name": "LayoutView",
      "align_content": null,
      "align_items": null,
      "align_self": null,
      "border": null,
      "bottom": null,
      "display": null,
      "flex": null,
      "flex_flow": null,
      "grid_area": null,
      "grid_auto_columns": null,
      "grid_auto_flow": null,
      "grid_auto_rows": null,
      "grid_column": null,
      "grid_gap": null,
      "grid_row": null,
      "grid_template_areas": null,
      "grid_template_columns": null,
      "grid_template_rows": null,
      "height": null,
      "justify_content": null,
      "justify_items": null,
      "left": null,
      "margin": null,
      "max_height": null,
      "max_width": null,
      "min_height": null,
      "min_width": null,
      "object_fit": null,
      "object_position": null,
      "order": null,
      "overflow": null,
      "overflow_x": null,
      "overflow_y": null,
      "padding": null,
      "right": null,
      "top": null,
      "visibility": null,
      "width": null
     }
    },
    "f23dd213aa694273b29c11a528985e92": {
     "model_module": "@jupyter-widgets/controls",
     "model_name": "FloatProgressModel",
     "state": {
      "_dom_classes": [],
      "_model_module": "@jupyter-widgets/controls",
      "_model_module_version": "1.5.0",
      "_model_name": "FloatProgressModel",
      "_view_count": null,
      "_view_module": "@jupyter-widgets/controls",
      "_view_module_version": "1.5.0",
      "_view_name": "ProgressView",
      "bar_style": "success",
      "description": "recognition...: 100%",
      "description_tooltip": null,
      "layout": "IPY_MODEL_37c18e6c086a4932a8cd16ab3abdbe1f",
      "max": 101,
      "min": 0,
      "orientation": "horizontal",
      "style": "IPY_MODEL_b6254035770f49e6980aa988dc9fd3b2",
      "value": 101
     }
    },
    "f471544c8a494191a1a1ca9b62f9ea12": {
     "model_module": "@jupyter-widgets/controls",
     "model_name": "HTMLModel",
     "state": {
      "_dom_classes": [],
      "_model_module": "@jupyter-widgets/controls",
      "_model_module_version": "1.5.0",
      "_model_name": "HTMLModel",
      "_view_count": null,
      "_view_module": "@jupyter-widgets/controls",
      "_view_module_version": "1.5.0",
      "_view_name": "HTMLView",
      "description": "",
      "description_tooltip": null,
      "layout": "IPY_MODEL_a5a967f3f5dc499e92947406cdf528e9",
      "placeholder": "​",
      "style": "IPY_MODEL_68afdf57497a4435b4d192322d96b9ec",
      "value": " 101/101 [05:05&lt;00:00,  3.03s/it]"
     }
    },
    "f5f57dd6da6541348bad581887b4cbb6": {
     "model_module": "@jupyter-widgets/base",
     "model_name": "LayoutModel",
     "state": {
      "_model_module": "@jupyter-widgets/base",
      "_model_module_version": "1.2.0",
      "_model_name": "LayoutModel",
      "_view_count": null,
      "_view_module": "@jupyter-widgets/base",
      "_view_module_version": "1.2.0",
      "_view_name": "LayoutView",
      "align_content": null,
      "align_items": null,
      "align_self": null,
      "border": null,
      "bottom": null,
      "display": null,
      "flex": null,
      "flex_flow": null,
      "grid_area": null,
      "grid_auto_columns": null,
      "grid_auto_flow": null,
      "grid_auto_rows": null,
      "grid_column": null,
      "grid_gap": null,
      "grid_row": null,
      "grid_template_areas": null,
      "grid_template_columns": null,
      "grid_template_rows": null,
      "height": null,
      "justify_content": null,
      "justify_items": null,
      "left": null,
      "margin": null,
      "max_height": null,
      "max_width": null,
      "min_height": null,
      "min_width": null,
      "object_fit": null,
      "object_position": null,
      "order": null,
      "overflow": null,
      "overflow_x": null,
      "overflow_y": null,
      "padding": null,
      "right": null,
      "top": null,
      "visibility": null,
      "width": null
     }
    },
    "fb7b6bf091164819bfd5d5bdff6c396c": {
     "model_module": "@jupyter-widgets/controls",
     "model_name": "HBoxModel",
     "state": {
      "_dom_classes": [],
      "_model_module": "@jupyter-widgets/controls",
      "_model_module_version": "1.5.0",
      "_model_name": "HBoxModel",
      "_view_count": null,
      "_view_module": "@jupyter-widgets/controls",
      "_view_module_version": "1.5.0",
      "_view_name": "HBoxView",
      "box_style": "",
      "children": [
       "IPY_MODEL_d70750552b45488f8a52608ed2417953",
       "IPY_MODEL_f471544c8a494191a1a1ca9b62f9ea12"
      ],
      "layout": "IPY_MODEL_8963cd61c47d43599b3fb25be966d88d"
     }
    },
    "fef8a909cb454ec5a554c3c8632d97e1": {
     "model_module": "@jupyter-widgets/controls",
     "model_name": "ProgressStyleModel",
     "state": {
      "_model_module": "@jupyter-widgets/controls",
      "_model_module_version": "1.5.0",
      "_model_name": "ProgressStyleModel",
      "_view_count": null,
      "_view_module": "@jupyter-widgets/base",
      "_view_module_version": "1.2.0",
      "_view_name": "StyleView",
      "bar_color": null,
      "description_width": "initial"
     }
    }
   }
  }
 },
 "nbformat": 4,
 "nbformat_minor": 1
}
